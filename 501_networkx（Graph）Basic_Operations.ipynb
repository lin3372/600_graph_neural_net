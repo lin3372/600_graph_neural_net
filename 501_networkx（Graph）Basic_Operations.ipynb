{
  "nbformat": 4,
  "nbformat_minor": 0,
  "metadata": {
    "colab": {
      "name": "501_networkx（Graph）Basic Operations.ipynb",
      "provenance": [],
      "authorship_tag": "ABX9TyOQKzKI2RPy9mHXSDV0s6tS",
      "include_colab_link": true
    },
    "kernelspec": {
      "name": "python3",
      "display_name": "Python 3"
    },
    "language_info": {
      "name": "python"
    }
  },
  "cells": [
    {
      "cell_type": "markdown",
      "metadata": {
        "id": "view-in-github",
        "colab_type": "text"
      },
      "source": [
        "<a href=\"https://colab.research.google.com/github/lin3372/600_graph_neural_net/blob/main/501_networkx%EF%BC%88Graph%EF%BC%89Basic_Operations.ipynb\" target=\"_parent\"><img src=\"https://colab.research.google.com/assets/colab-badge.svg\" alt=\"Open In Colab\"/></a>"
      ]
    },
    {
      "cell_type": "code",
      "metadata": {
        "id": "V3v_Z5kowc-7"
      },
      "source": [
        "import networkx as nx\n",
        "\n",
        "%matplotlib inline\n",
        "from matplotlib import pyplot as plt\n",
        "\n",
        "import networkx as nx\n",
        "import matplotlib.pyplot as plt\n",
        "import pandas as pd\n",
        "\n",
        "oo = float('inf')"
      ],
      "execution_count": null,
      "outputs": []
    },
    {
      "cell_type": "markdown",
      "metadata": {
        "id": "7hiEubjOzK4B"
      },
      "source": [
        "## Graph Drawing FNs"
      ]
    },
    {
      "cell_type": "code",
      "metadata": {
        "id": "0Ujj14L1w3H4"
      },
      "source": [
        "def draw_graph(G, node_names={}, filename=None, node_size=50, layout = None, edge_color='gray'):\n",
        "    pos_nodes = nx.spring_layout(G) if layout is None else layout(G)\n",
        "    nx.draw(G, pos_nodes, with_labels=False, node_size=node_size, edge_color=edge_color)\n",
        "  \n",
        "    pos_attrs = {}\n",
        "    for node, coords in pos_nodes.items():\n",
        "        pos_attrs[node] = (coords[0], coords[1] + 0.08)\n",
        "  \n",
        "    nx.draw_networkx_labels(G, pos_attrs, labels=node_names, font_family='serif')\n",
        "  \n",
        "    plt.axis('off')\n",
        "    axis = plt.gca()\n",
        "    axis.set_xlim([1.2*x for x in axis.get_xlim()])\n",
        "    axis.set_ylim([1.2*y for y in axis.get_ylim()])\n",
        "  \n",
        "    if filename:\n",
        "        plt.savefig(os.path.join(output_dir, filename), format=\"png\")"
      ],
      "execution_count": null,
      "outputs": []
    },
    {
      "cell_type": "markdown",
      "metadata": {
        "id": "5XTH7lk4yGJZ"
      },
      "source": [
        "## Undirected Graph (無向圖), Directed Graph(有向圖), Weighted Directed Graph(加權圖)"
      ]
    },
    {
      "cell_type": "code",
      "metadata": {
        "colab": {
          "base_uri": "https://localhost:8080/",
          "height": 460
        },
        "id": "ZIDvBGufw7WI",
        "outputId": "65a828b0-802f-41bf-a187-7193effce06d"
      },
      "source": [
        "plt.figure(figsize=(15,6))\n",
        "\n",
        "# 創建無向圖\n",
        "G = nx.Graph()\n",
        "G.add_node(1) # 添加節點１\n",
        "G.add_edge(2,3) #　添加節點２，３並鏈接２３節點\n",
        "print(G.nodes, G.edges, G.number_of_nodes(), G.number_of_edges())\n",
        "plt.subplot(1,3,1)\n",
        "plt.title(f\"Undirected Graph\")\n",
        "draw_graph(G)\n",
        "\n",
        "# 創建有向圖\n",
        "G = nx.DiGraph() \n",
        "G.add_edge(2, 3)\n",
        "G.add_edge(3, 2)\n",
        "G.to_undirected()  # 轉換成無向圖\n",
        "print(G.edges)\n",
        "plt.subplot(1,3,2)\n",
        "plt.title(f\"Directed Graph\")\n",
        "draw_graph(G)\n",
        "\n",
        "# 加權圖\n",
        "G = nx.DiGraph()\n",
        "G.add_weighted_edges_from([(0,1,3.0), (1,2,7.5)]) # 給０１邊加權３，　１２邊加權７．５\n",
        "print(G.get_edge_data(1,2))  # 獲得１２邊的屬性\n",
        "\n",
        "G.add_weighted_edges_from([(2,3,5)], weight='color')\n",
        "print(G.edges.data())\n",
        "\n",
        "G.nodes[1]['size'] = 100\n",
        "print(G.nodes.data())\n",
        "plt.subplot(1,3,3)\n",
        "plt.title(f\"Weighted Graph\")\n",
        "draw_graph(G, edge_color='red')\n",
        "\n",
        "#d = dict(G.nodes.values)"
      ],
      "execution_count": null,
      "outputs": [
        {
          "output_type": "stream",
          "name": "stdout",
          "text": [
            "[1, 2, 3] [(2, 3)] 3 1\n",
            "[(2, 3), (3, 2)]\n",
            "{'weight': 7.5}\n",
            "[(0, 1, {'weight': 3.0}), (1, 2, {'weight': 7.5}), (2, 3, {'color': 5})]\n",
            "[(0, {}), (1, {'size': 100}), (2, {}), (3, {})]\n"
          ]
        },
        {
          "output_type": "display_data",
          "data": {
            "image/png": "[encoded data removed]",
            "text/plain": [
              "<Figure size 1080x432 with 3 Axes>"
            ]
          },
          "metadata": {}
        }
      ]
    },
    {
      "cell_type": "code",
      "metadata": {
        "colab": {
          "base_uri": "https://localhost:8080/",
          "height": 337
        },
        "id": "f-TiR8so31wo",
        "outputId": "f01fe886-d15a-4741-c0f4-a1051c59e5f4"
      },
      "source": [
        "g_data = [(1, 2, 6), (1, 3, 1), (1, 4, 5),\n",
        "          (2, 3, 5),  (2, 5, 3),\n",
        "          (3, 4, 5), (3, 5, 6), (3, 6, 4), (4, 6, 2),\n",
        "          (5, 6, 6)]\n",
        "\n",
        "# 最小生成樹\n",
        "g = nx.Graph()\n",
        "g.add_weighted_edges_from(g_data)\n",
        "tree = nx.minimum_spanning_tree(g, algorithm='prim')\n",
        "print(tree.edges(data=True))\n",
        "\n",
        "draw_graph(g, edge_color='blue')"
      ],
      "execution_count": null,
      "outputs": [
        {
          "output_type": "stream",
          "name": "stdout",
          "text": [
            "[(1, 3, {'weight': 1}), (2, 3, {'weight': 5}), (2, 5, {'weight': 3}), (3, 6, {'weight': 4}), (4, 6, {'weight': 2})]\n"
          ]
        },
        {
          "output_type": "display_data",
          "data": {
            "image/png": "[encoded data removed]",
            "text/plain": [
              "<Figure size 432x288 with 1 Axes>"
            ]
          },
          "metadata": {}
        }
      ]
    },
    {
      "cell_type": "code",
      "metadata": {
        "colab": {
          "base_uri": "https://localhost:8080/",
          "height": 634
        },
        "id": "eM5RQwjJGgTB",
        "outputId": "b452f4c4-3e5f-4d32-e126-b55b93b6ca9a"
      },
      "source": [
        "# 最短路徑\n",
        "G = nx.path_graph(5)  # 0-1-2-3-4鏈\n",
        "print(nx.dijkstra_path(G, 0, 4))\n",
        "\n",
        "# 所有節點之間的最短路徑\n",
        "G = nx.Graph()\n",
        "G.add_weighted_edges_from(g_data)\n",
        "gen = nx.all_pairs_shortest_path(G)\n",
        "print(dict(gen))\n",
        "\n",
        "# 各點之間可達性\n",
        "G = nx.Graph()\n",
        "G.add_weighted_edges_from(g_data)\n",
        "print(nx.communicability(G))\n",
        "\n",
        "# 獲得圖中非連通點的列表\n",
        "G = nx.Graph()\n",
        "G.add_edge(1,2)\n",
        "G.add_node(3)\n",
        "print(list(nx.isolates(G)))\n",
        "\n",
        "# 遍历\n",
        "G = nx.Graph()\n",
        "G.add_weighted_edges_from(g_data)\n",
        "d_gen = nx.dfs_edges(G,1)  #  按邊深度搜索, 1為起點\n",
        "b_gen = nx.bfs_edges(G,1)\n",
        "print(list(d_gen), list(b_gen))\n",
        "print(nx.dfs_tree(G,1).nodes())  # 按點深搜\n",
        "\n",
        "\n",
        "from networkx.algorithms.flow import shortest_augmenting_path\n",
        "import matplotlib.pyplot as plt\n",
        "\n",
        "G = nx.DiGraph()\n",
        "G.add_edge('x','a', capacity=3.0)\n",
        "G.add_edge('x','b', capacity=1.0)\n",
        "G.add_edge('a','c', capacity=3.0)\n",
        "G.add_edge('b','c', capacity=5.0)\n",
        "G.add_edge('b','d', capacity=4.0)\n",
        "G.add_edge('d','e', capacity=2.0)\n",
        "G.add_edge('c','y', capacity=2.0)\n",
        "G.add_edge('e','y', capacity=3.0)\n",
        "\n",
        "# 將參數畫到圖上\n",
        "pos = nx.spring_layout(G)\n",
        "capacity = nx.get_edge_attributes(G, 'capacity')\n",
        "# nx.draw_networkx_nodes(G, pos)\n",
        "# nx.draw_networkx_edges(G, pos)\n",
        "# nx.draw_networkx_labels(G, pos)\n",
        "# nx.draw_networkx_edge_labels(G,pos,capacity)\n",
        "\n",
        "# 最大流\n",
        "flow_value, flow_dict = nx.maximum_flow(G,'x', 'y', flow_func=shortest_augmenting_path)\n",
        "print(flow_value, flow_dict)\n",
        "# plt.show()\n",
        "\n",
        "\n",
        "# 最小成本流\n",
        "G = nx.DiGraph()\n",
        "G.add_node('a', demand = -5)\n",
        "G.add_node('d', demand = 5)\n",
        "G.add_edge('a', 'b', weight = 3, capacity = 4)\n",
        "G.add_edge('a', 'c', weight = 6, capacity = 10)\n",
        "G.add_edge('b', 'd', weight = 1, capacity = 9)\n",
        "G.add_edge('c', 'd', weight = 2, capacity = 5)\n",
        "flow_cost, flow_dict = nx.capacity_scaling(G)\n",
        "print(flow_cost, flow_dict)\n",
        "\n",
        "# 歐拉回路  一個無向圖G,一條路徑經過圖G的每一條邊,且僅經過一次,這條路徑稱為歐拉路徑．如果起點和終點同一點，則為歐拉回路\n",
        "# 無向圖：每個頂點的度數都是偶數則存在歐拉回路\n",
        "# 有向圖：每個頂點的入度都等於出度則存在歐拉回路\n",
        "DG = nx.DiGraph({0: [3], 1: [2], 2: [3], 3: [0, 1]})\n",
        "G = nx.Graph({0: [1,2], 1: [0,2], 2: [0,1,3,4], 3: [2,4], 4:[2,3]})\n",
        "print(nx.is_eulerian(DG))\n",
        "print(nx.is_eulerian(G))\n",
        "print(list(nx.eulerian_circuit(DG)))\n",
        "print(list(nx.eulerian_circuit(G)))\n",
        "\n",
        "# 最小點割集\n",
        "node_cut = nx.minimum_node_cut(G, flow_func=shortest_augmenting_path)\n",
        "print(node_cut)\n",
        "\n",
        "# 對於帶權無向圖邊切割，得到最小切割權之和，以及兩個分離區域\n",
        "G = nx.Graph()\n",
        "G.add_edge('x','a', weight=3)\n",
        "G.add_edge('x','b', weight=1)\n",
        "G.add_edge('a','c', weight=3)\n",
        "G.add_edge('b','c', weight=5)\n",
        "G.add_edge('b','d', weight=4)\n",
        "G.add_edge('d','e', weight=2)\n",
        "G.add_edge('c','y', weight=2)\n",
        "G.add_edge('e','y', weight=3)\n",
        "\n",
        "cut_value, partition = nx.stoer_wagner(G)\n",
        "print(cut_value, partition)\n",
        "\n",
        "# 最大權重匹配　匈牙利、KM算法\n",
        "G = nx.Graph()\n",
        "G.add_weighted_edges_from([('A', 'a', 3), ('A', 'c', 4), ('B', 'a', 2), ('B', 'b', 1), ('B', 'c', 3), ('C', 'c', 5)])\n",
        "print(nx.max_weight_matching(G))\n",
        "\n",
        "# 拓撲排序\n",
        "G = nx.DiGraph()\n",
        "G.add_edge('x','a', weight=3)\n",
        "G.add_edge('a','c', weight=3)\n",
        "G.add_edge('b','c', weight=5)\n",
        "G.add_edge('b','d', weight=4)\n",
        "G.add_edge('d','e', weight=2)\n",
        "G.add_edge('c','y', weight=2)\n",
        "G.add_edge('e','y', weight=3)\n",
        "print(list(nx.topological_sort(G)))\n",
        "\n",
        "# 最小成本最大流\n",
        "G = nx.DiGraph()\n",
        "G.add_edge('a', 'b', weight = 3, capacity = 4)\n",
        "G.add_edge('a', 'c', weight = 6, capacity = 10)\n",
        "G.add_edge('b', 'd', weight = 1, capacity = 9)\n",
        "G.add_edge('c', 'd', weight = 2, capacity = 5)\n",
        "print(nx.max_flow_min_cost(G, 'a', 'd'))\n",
        "\n",
        "\n",
        "#複雜網絡生成\n",
        "# ER隨機圖   # 隨機生成20個節點，節點間的連接概率都是0.2\n",
        "# ER = nx.random_graphs.erdos_renyi_graph(20, 0.2)\n",
        "# pos = nx.shell_layout(ER)\n",
        "# nx.draw(ER, pos, with_labels=False,edge_color='b', alpha=0.3, node_size=30)\n",
        "# plt.show()\n",
        "\n",
        "# WS小世界網絡  生成一個含有n個節點、每個節點有k個鄰居、以概率p隨機化重連邊的WS小世界網絡。\n",
        "WS = nx.random_graphs.watts_strogatz_graph(20, 4, 0.3)\n",
        "pos = nx.circular_layout(WS)\n",
        "nx.draw(WS, pos, with_labels=False, node_size=30, edge_color='b', alpha=0.3)\n",
        "plt.show()\n",
        "\n",
        "\n",
        "# BA無標度網絡 生成一個含有n個節點、每次加入m條邊的BA無標度網絡\n",
        "# BA = nx.random_graphs.barabasi_albert_graph(10,2)\n",
        "# pos = nx.spring_layout(BA)\n",
        "# nx.draw(BA, pos, with_labels=False, node_size=30, edge_color='b', alpha=0.3)\n",
        "# plt.show()\n",
        "\n",
        "# 擴展ＢＡ無標度網絡  節點數，添加新邊數，兩點間添加邊的概率，邊重連的概率\n",
        "# ExBA = nx.random_graphs.extended_barabasi_albert_graph(200, 4, 0.4, 0.2)\n",
        "# pos = nx.spring_layout(ExBA)\n",
        "# nx.draw(ExBA, pos, with_labels=False, node_size=30, edge_color='b', alpha=0.3)\n",
        "# plt.show()"
      ],
      "execution_count": null,
      "outputs": [
        {
          "output_type": "stream",
          "name": "stdout",
          "text": [
            "[0, 1, 2, 3, 4]\n",
            "{1: {1: [1], 2: [1, 2], 3: [1, 3], 4: [1, 4], 5: [1, 2, 5], 6: [1, 3, 6]}, 2: {2: [2], 1: [2, 1], 3: [2, 3], 5: [2, 5], 4: [2, 1, 4], 6: [2, 3, 6]}, 3: {3: [3], 1: [3, 1], 2: [3, 2], 4: [3, 4], 5: [3, 5], 6: [3, 6]}, 4: {4: [4], 1: [4, 1], 3: [4, 3], 6: [4, 6], 2: [4, 1, 2], 5: [4, 3, 5]}, 5: {5: [5], 2: [5, 2], 3: [5, 3], 6: [5, 6], 1: [5, 2, 1], 4: [5, 3, 4]}, 6: {6: [6], 3: [6, 3], 4: [6, 4], 5: [6, 5], 1: [6, 3, 1], 2: [6, 3, 2]}}\n",
            "{1: {1: 5.269088285128797, 2: 4.61281969015233, 3: 6.378804644631191, 4: 4.612819690152331, 5: 3.8717917686287553, 6: 3.8717917686287553}, 2: {1: 4.61281969015233, 2: 5.269088285128798, 3: 6.378804644631192, 4: 3.871791768628753, 5: 4.612819690152334, 6: 3.871791768628756}, 3: {1: 6.378804644631191, 2: 6.378804644631192, 3: 9.480701913428605, 4: 6.378804644631193, 5: 6.378804644631199, 6: 6.378804644631199}, 4: {1: 4.612819690152331, 2: 3.871791768628753, 3: 6.378804644631193, 4: 5.2690882851288, 5: 3.871791768628757, 6: 4.612819690152335}, 5: {1: 3.8717917686287553, 2: 4.612819690152334, 3: 6.378804644631199, 4: 3.871791768628757, 5: 5.269088285128808, 6: 4.61281969015234}, 6: {1: 3.8717917686287553, 2: 3.871791768628756, 3: 6.378804644631199, 4: 4.612819690152335, 5: 4.61281969015234, 6: 5.269088285128808}}\n",
            "[3]\n",
            "[(1, 2), (2, 3), (3, 4), (4, 6), (6, 5)] [(1, 2), (1, 3), (1, 4), (2, 5), (3, 6)]\n",
            "[1, 2, 3, 4, 6, 5]\n",
            "3.0 {'x': {'a': 2.0, 'b': 1.0}, 'a': {'c': 2.0}, 'b': {'c': 0, 'd': 1.0}, 'c': {'y': 2.0}, 'd': {'e': 1.0}, 'e': {'y': 1.0}, 'y': {}}\n",
            "24 {'a': {'b': 4, 'c': 1}, 'd': {}, 'b': {'d': 4}, 'c': {'d': 1}}\n",
            "True\n",
            "True\n",
            "[(0, 3), (3, 1), (1, 2), (2, 3), (3, 0)]\n",
            "[(0, 2), (2, 4), (4, 3), (3, 2), (2, 1), (1, 0)]\n",
            "{2}\n",
            "4 (['e', 'y'], ['x', 'b', 'a', 'd', 'c'])\n",
            "{('c', 'C'), ('B', 'b'), ('A', 'a')}\n",
            "['x', 'b', 'a', 'd', 'c', 'e', 'y']\n",
            "{'a': {'b': 4, 'c': 5}, 'b': {'d': 4}, 'c': {'d': 5}, 'd': {}}\n"
          ]
        },
        {
          "output_type": "display_data",
          "data": {
            "image/png": "[encoded data removed]",
            "text/plain": [
              "<Figure size 432x288 with 1 Axes>"
            ]
          },
          "metadata": {}
        }
      ]
    }
  ]
}