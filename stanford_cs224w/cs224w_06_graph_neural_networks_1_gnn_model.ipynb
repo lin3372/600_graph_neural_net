{
  "cells": [
    {
      "cell_type": "markdown",
      "metadata": {
        "id": "view-in-github",
        "colab_type": "text"
      },
      "source": [
        "<a href=\"https://colab.research.google.com/github/lin3372/600_graph_neural_net/blob/main/stanford_cs224w/cs224w_06_graph_neural_networks_1_gnn_model.ipynb\" target=\"_parent\"><img src=\"https://colab.research.google.com/assets/colab-badge.svg\" alt=\"Open In Colab\"/></a>"
      ]
    },
    {
      "cell_type": "code",
      "execution_count": 1,
      "metadata": {
        "id": "PJSONe-045tN",
        "colab": {
          "base_uri": "https://localhost:8080/"
        },
        "outputId": "8e2d7f65-1981-48bf-fc1e-12af19ceca79"
      },
      "outputs": [
        {
          "output_type": "stream",
          "name": "stdout",
          "text": [
            "  Building wheel for torch-scatter (setup.py) ... \u001b[?25l\u001b[?25hdone\n",
            "\u001b[K     |████████████████████████████████| 43 kB 823 kB/s \n",
            "\u001b[?25h  Building wheel for torch-sparse (setup.py) ... \u001b[?25l\u001b[?25hdone\n",
            "\u001b[K     |████████████████████████████████| 370 kB 5.3 MB/s \n",
            "\u001b[K     |████████████████████████████████| 482 kB 44.6 MB/s \n",
            "\u001b[K     |████████████████████████████████| 41 kB 453 kB/s \n",
            "\u001b[?25h  Building wheel for torch-geometric (setup.py) ... \u001b[?25l\u001b[?25hdone\n"
          ]
        }
      ],
      "source": [
        "try:\n",
        "    # Check if PyTorch Geometric is installed:\n",
        "    import torch_geometric\n",
        "except ImportError:\n",
        "    # If PyTorch Geometric is not installed, install it.\n",
        "    %pip install -q torch-scatter -f https://pytorch-geometric.com/whl/torch-1.7.0+cu101.html\n",
        "    %pip install -q torch-sparse -f https://pytorch-geometric.com/whl/torch-1.7.0+cu101.html\n",
        "    %pip install -q torch-geometric"
      ]
    },
    {
      "cell_type": "markdown",
      "metadata": {
        "id": "oV56fjpNYjCR"
      },
      "source": [
        "# Graph Neural Networks 1: GNN Model"
      ]
    },
    {
      "cell_type": "code",
      "execution_count": 2,
      "metadata": {
        "id": "2OtSkdGl48E0"
      },
      "outputs": [],
      "source": [
        "from typing import Callable, List, Optional, Tuple\n",
        "\n",
        "import matplotlib.pyplot as plt\n",
        "import numpy as np\n",
        "import torch\n",
        "import torch.nn.functional as F\n",
        "import torch_geometric.transforms as T\n",
        "from torch import Tensor\n",
        "from torch.optim import Optimizer\n",
        "from torch_geometric.data import Data\n",
        "from torch_geometric.datasets import Planetoid\n",
        "from torch_geometric.nn import GCNConv\n",
        "from torch_geometric.utils import accuracy\n",
        "from typing_extensions import Literal, TypedDict"
      ]
    },
    {
      "cell_type": "markdown",
      "metadata": {
        "id": "KYGSasdA5ziu"
      },
      "source": [
        "## Cora Dataset"
      ]
    },
    {
      "cell_type": "markdown",
      "metadata": {
        "id": "_iseKiaT5GZ7"
      },
      "source": [
        "> From The [Papers With Code page of the Cora Dataset](https://paperswithcode.com/dataset/cora): \"The Cora dataset consists of 2708 scientific publications classified into one of seven classes. The citation network consists of 5429 links. Each publication in the dataset is described by a 0/1-valued word vector indicating the absence/presence of the corresponding word from the dictionary. The dictionary consists of 1433 unique words.\""
      ]
    },
    {
      "cell_type": "markdown",
      "metadata": {
        "id": "z518Aul25JZv"
      },
      "source": [
        "> From [Kipf & Welling (ICLR 2017)](https://arxiv.org/abs/1609.02907): \"[...] evaluate prediction accuracy on a test set of 1,000 labeled examples. [...] validation set of 500 labeled examples for hyperparameter optimization (dropout rate for all layers, L2 regularization factor for the first GCN layer and number of hidden units). We do not use the validation set labels for training.\""
      ]
    },
    {
      "cell_type": "code",
      "execution_count": 3,
      "metadata": {
        "colab": {
          "base_uri": "https://localhost:8080/"
        },
        "id": "6Gg7oGlS5NRX",
        "outputId": "3cfc9c88-0a1d-4402-d3b7-4d71a499e858"
      },
      "outputs": [
        {
          "output_type": "stream",
          "name": "stderr",
          "text": [
            "Downloading https://github.com/kimiyoung/planetoid/raw/master/data/ind.cora.x\n",
            "Downloading https://github.com/kimiyoung/planetoid/raw/master/data/ind.cora.tx\n",
            "Downloading https://github.com/kimiyoung/planetoid/raw/master/data/ind.cora.allx\n",
            "Downloading https://github.com/kimiyoung/planetoid/raw/master/data/ind.cora.y\n",
            "Downloading https://github.com/kimiyoung/planetoid/raw/master/data/ind.cora.ty\n",
            "Downloading https://github.com/kimiyoung/planetoid/raw/master/data/ind.cora.ally\n",
            "Downloading https://github.com/kimiyoung/planetoid/raw/master/data/ind.cora.graph\n",
            "Downloading https://github.com/kimiyoung/planetoid/raw/master/data/ind.cora.test.index\n",
            "Processing...\n"
          ]
        },
        {
          "output_type": "stream",
          "name": "stdout",
          "text": [
            "Dataset: Cora\n",
            "Num. nodes: 2708 (train=140, val=500, test=1000, other=1068)\n",
            "Num. edges: 5278\n",
            "Num. node features: 1433\n",
            "Num. classes: 7\n",
            "Dataset len.: 1\n"
          ]
        },
        {
          "output_type": "stream",
          "name": "stderr",
          "text": [
            "Done!\n"
          ]
        }
      ],
      "source": [
        "dataset = Planetoid(\"/tmp/Cora\", name=\"Cora\")\n",
        "num_nodes = dataset.data.num_nodes\n",
        "# For num. edges see:\n",
        "# - https://github.com/pyg-team/pytorch_geometric/issues/343\n",
        "# - https://github.com/pyg-team/pytorch_geometric/issues/852\n",
        "num_edges = dataset.data.num_edges // 2\n",
        "train_len = dataset[0].train_mask.sum()\n",
        "val_len = dataset[0].val_mask.sum()\n",
        "test_len = dataset[0].test_mask.sum()\n",
        "other_len = num_nodes - train_len - val_len - test_len\n",
        "print(f\"Dataset: {dataset.name}\")\n",
        "print(f\"Num. nodes: {num_nodes} (train={train_len}, val={val_len}, test={test_len}, other={other_len})\")\n",
        "print(f\"Num. edges: {num_edges}\")\n",
        "print(f\"Num. node features: {dataset.num_node_features}\")\n",
        "print(f\"Num. classes: {dataset.num_classes}\")\n",
        "print(f\"Dataset len.: {dataset.len()}\")"
      ]
    },
    {
      "cell_type": "markdown",
      "metadata": {
        "id": "hBzvCryI5Uba"
      },
      "source": [
        "> From [Kipf & Welling (ICLR 2017)](https://arxiv.org/abs/1609.02907): \"We initialize weights using the initialization described in Glorot & Bengio (2010) and accordingly (row-)normalize input feature vectors.\""
      ]
    },
    {
      "cell_type": "code",
      "execution_count": 4,
      "metadata": {
        "colab": {
          "base_uri": "https://localhost:8080/"
        },
        "id": "nljKuAA85XDE",
        "outputId": "80ab24e6-bc5d-4575-e935-0e52fc743893"
      },
      "outputs": [
        {
          "output_type": "stream",
          "name": "stdout",
          "text": [
            "Sum of row values without normalization: tensor([ 9., 23., 19.,  ..., 18., 14., 13.])\n",
            "Sum of row values with normalization: tensor([1.0000, 1.0000, 1.0000,  ..., 1.0000, 1.0000, 1.0000])\n"
          ]
        }
      ],
      "source": [
        "dataset = Planetoid(\"/tmp/Cora\", name=\"Cora\")\n",
        "print(f\"Sum of row values without normalization: {dataset[0].x.sum(dim=-1)}\")\n",
        "\n",
        "dataset = Planetoid(\"/tmp/Cora\", name=\"Cora\", transform=T.NormalizeFeatures())\n",
        "print(f\"Sum of row values with normalization: {dataset[0].x.sum(dim=-1)}\")"
      ]
    },
    {
      "cell_type": "markdown",
      "metadata": {
        "id": "c0Jw_TT35AiO"
      },
      "source": [
        "## Graph Convolutional Networks"
      ]
    },
    {
      "cell_type": "markdown",
      "metadata": {
        "id": "b19trEwa5Y-W"
      },
      "source": [
        "> From [Kipf & Welling (ICLR 2017)](https://arxiv.org/abs/1609.02907): \"We used the following sets of hyperparameters for Citeseer, Cora and Pubmed: 0.5 (dropout rate), $5\\cdot10^{-4}$ (L2 regularization) and 16 (number of hidden units);\""
      ]
    },
    {
      "cell_type": "code",
      "execution_count": 5,
      "metadata": {
        "id": "-m_i0aCa5eM4"
      },
      "outputs": [],
      "source": [
        "class GCN(torch.nn.Module):\n",
        "    def __init__(\n",
        "        self,\n",
        "        num_node_features: int,\n",
        "        num_classes: int,\n",
        "        hidden_dim: int = 16,\n",
        "        dropout_rate: float = 0.5,\n",
        "    ) -> None:\n",
        "        super().__init__()\n",
        "        self.dropout1 = torch.nn.Dropout(dropout_rate)\n",
        "        self.conv1 = GCNConv(num_node_features, hidden_dim)\n",
        "        self.relu = torch.nn.ReLU(inplace=True)\n",
        "        self.dropout2 = torch.nn.Dropout(dropout_rate)\n",
        "        self.conv2 = GCNConv(hidden_dim, num_classes)\n",
        "\n",
        "    def forward(self, x: Tensor, edge_index: Tensor) -> torch.Tensor:\n",
        "        x = self.dropout1(x)\n",
        "        x = self.conv1(x, edge_index)\n",
        "        x = self.relu(x)\n",
        "        x = self.dropout2(x)\n",
        "        x = self.conv2(x, edge_index)\n",
        "        return x"
      ]
    },
    {
      "cell_type": "code",
      "execution_count": 6,
      "metadata": {
        "colab": {
          "base_uri": "https://localhost:8080/"
        },
        "id": "jKQH-HKS5hVt",
        "outputId": "6a2f42b2-7d1e-4462-d187-c9152ec84469"
      },
      "outputs": [
        {
          "output_type": "stream",
          "name": "stdout",
          "text": [
            "Graph Convolutional Network (GCN):\n"
          ]
        },
        {
          "output_type": "execute_result",
          "data": {
            "text/plain": [
              "GCN(\n",
              "  (dropout1): Dropout(p=0.5, inplace=False)\n",
              "  (conv1): GCNConv(1433, 16)\n",
              "  (relu): ReLU(inplace=True)\n",
              "  (dropout2): Dropout(p=0.5, inplace=False)\n",
              "  (conv2): GCNConv(16, 7)\n",
              ")"
            ]
          },
          "metadata": {},
          "execution_count": 6
        }
      ],
      "source": [
        "print(\"Graph Convolutional Network (GCN):\")\n",
        "GCN(dataset.num_node_features, dataset.num_classes)"
      ]
    },
    {
      "cell_type": "markdown",
      "metadata": {
        "id": "mN5NPwag6GPT"
      },
      "source": [
        "## Training and Evaluation"
      ]
    },
    {
      "cell_type": "code",
      "execution_count": 7,
      "metadata": {
        "id": "wmU07iwC6SUy"
      },
      "outputs": [],
      "source": [
        "LossFn = Callable[[Tensor, Tensor], Tensor]\n",
        "Stage = Literal[\"train\", \"val\", \"test\"]\n",
        "\n",
        "\n",
        "def train_step(\n",
        "    model: torch.nn.Module, data: Data, optimizer: torch.optim.Optimizer, loss_fn: LossFn\n",
        ") -> Tuple[float, float]:\n",
        "    model.train()\n",
        "    optimizer.zero_grad()\n",
        "    mask = data.train_mask\n",
        "    logits = model(data.x, data.edge_index)[mask]\n",
        "    preds = logits.argmax(dim=1)\n",
        "    y = data.y[mask]\n",
        "    loss = loss_fn(logits, y)\n",
        "    # + L2 regularization to the first layer only\n",
        "    # for name, params in model.state_dict().items():\n",
        "    #     if name.startswith(\"conv1\"):\n",
        "    #         loss += 5e-4 * params.square().sum() / 2.0\n",
        "\n",
        "    acc = accuracy(preds, y)\n",
        "    loss.backward()\n",
        "    optimizer.step()\n",
        "    return loss.item(), acc\n",
        "\n",
        "\n",
        "@torch.no_grad()\n",
        "def eval_step(model: torch.nn.Module, data: Data, loss_fn: LossFn, stage: Stage) -> Tuple[float, float]:\n",
        "    model.eval()\n",
        "    mask = getattr(data, f\"{stage}_mask\")\n",
        "    logits = model(data.x, data.edge_index)[mask]\n",
        "    preds = logits.argmax(dim=1)\n",
        "    y = data.y[mask]\n",
        "    loss = loss_fn(logits, y)\n",
        "    # + L2 regularization to the first layer only\n",
        "    # for name, params in model.state_dict().items():\n",
        "    #     if name.startswith(\"conv1\"):\n",
        "    #         loss += 5e-4 * params.square().sum() / 2.0\n",
        "\n",
        "    acc = accuracy(preds, y)\n",
        "    return loss.item(), acc"
      ]
    },
    {
      "cell_type": "markdown",
      "metadata": {
        "id": "oMqTMjZD5mTy"
      },
      "source": [
        "> From [Kipf & Welling (ICLR 2017)](https://arxiv.org/abs/1609.02907): \"We train all models for a maximum of 200 epochs (training iterations) using Adam (Kingma & Ba, 2015) with a learning rate of 0.01 and early stopping with a window size of 10, i.e. we stop training if the validation loss does not decrease for 10 consecutive epochs.\""
      ]
    },
    {
      "cell_type": "code",
      "execution_count": 8,
      "metadata": {
        "id": "PkjTNOex6SUz"
      },
      "outputs": [],
      "source": [
        "class HistoryDict(TypedDict):\n",
        "    loss: List[float]\n",
        "    acc: List[float]\n",
        "    val_loss: List[float]\n",
        "    val_acc: List[float]\n",
        "\n",
        "\n",
        "def train(\n",
        "    model: torch.nn.Module,\n",
        "    data: Data,\n",
        "    optimizer: torch.optim.Optimizer,\n",
        "    loss_fn: LossFn = torch.nn.CrossEntropyLoss(),\n",
        "    max_epochs: int = 200,\n",
        "    early_stopping: int = 10,\n",
        "    print_interval: int = 20,\n",
        "    verbose: bool = True,\n",
        ") -> HistoryDict:\n",
        "    history = {\"loss\": [], \"val_loss\": [], \"acc\": [], \"val_acc\": []}\n",
        "    for epoch in range(max_epochs):\n",
        "        loss, acc = train_step(model, data, optimizer, loss_fn)\n",
        "        val_loss, val_acc = eval_step(model, data, loss_fn, \"val\")\n",
        "        history[\"loss\"].append(loss)\n",
        "        history[\"acc\"].append(acc)\n",
        "        history[\"val_loss\"].append(val_loss)\n",
        "        history[\"val_acc\"].append(val_acc)\n",
        "        # The official implementation in TensorFlow is a little different from what is described in the paper...\n",
        "        if epoch > early_stopping and val_loss > np.mean(history[\"val_loss\"][-(early_stopping + 1) : -1]):\n",
        "            if verbose:\n",
        "                print(\"\\nEarly stopping...\")\n",
        "\n",
        "            break\n",
        "\n",
        "        if verbose and epoch % print_interval == 0:\n",
        "            print(f\"\\nEpoch: {epoch}\\n----------\")\n",
        "            print(f\"Train loss: {loss:.4f} | Train acc: {acc:.4f}\")\n",
        "            print(f\"  Val loss: {val_loss:.4f} |   Val acc: {val_acc:.4f}\")\n",
        "\n",
        "    test_loss, test_acc = eval_step(model, data, loss_fn, \"test\")\n",
        "    if verbose:\n",
        "        print(f\"\\nEpoch: {epoch}\\n----------\")\n",
        "        print(f\"Train loss: {loss:.4f} | Train acc: {acc:.4f}\")\n",
        "        print(f\"  Val loss: {val_loss:.4f} |   Val acc: {val_acc:.4f}\")\n",
        "        print(f\" Test loss: {test_loss:.4f} |  Test acc: {test_acc:.4f}\")\n",
        "\n",
        "    return history"
      ]
    },
    {
      "cell_type": "code",
      "execution_count": 9,
      "metadata": {
        "id": "LUT2LaOz6SUz"
      },
      "outputs": [],
      "source": [
        "def plot_history(history: HistoryDict, title: str, font_size: Optional[int] = 14) -> None:\n",
        "    plt.suptitle(title, fontsize=font_size)\n",
        "    ax1 = plt.subplot(121)\n",
        "    ax1.set_title(\"Loss\")\n",
        "    ax1.plot(history[\"loss\"], label=\"train\")\n",
        "    ax1.plot(history[\"val_loss\"], label=\"val\")\n",
        "    plt.xlabel(\"Epoch\")\n",
        "    ax1.legend()\n",
        "\n",
        "    ax2 = plt.subplot(122)\n",
        "    ax2.set_title(\"Accuracy\")\n",
        "    ax2.plot(history[\"acc\"], label=\"train\")\n",
        "    ax2.plot(history[\"val_acc\"], label=\"val\")\n",
        "    plt.xlabel(\"Epoch\")\n",
        "    ax2.legend()"
      ]
    },
    {
      "cell_type": "code",
      "execution_count": 10,
      "metadata": {
        "colab": {
          "base_uri": "https://localhost:8080/",
          "height": 1000
        },
        "id": "TAxZa6zc6SU0",
        "outputId": "64885605-819b-470b-82cd-fe38b56c41cb"
      },
      "outputs": [
        {
          "output_type": "stream",
          "name": "stdout",
          "text": [
            "\n",
            "Epoch: 0\n",
            "----------\n",
            "Train loss: 1.9460 | Train acc: 0.1143\n",
            "  Val loss: 1.9434 |   Val acc: 0.1780\n",
            "\n",
            "Epoch: 20\n",
            "----------\n",
            "Train loss: 1.6999 | Train acc: 0.6857\n",
            "  Val loss: 1.8121 |   Val acc: 0.4380\n",
            "\n",
            "Epoch: 40\n",
            "----------\n",
            "Train loss: 1.3337 | Train acc: 0.8214\n",
            "  Val loss: 1.5839 |   Val acc: 0.7320\n",
            "\n",
            "Epoch: 60\n",
            "----------\n",
            "Train loss: 0.9589 | Train acc: 0.8786\n",
            "  Val loss: 1.3248 |   Val acc: 0.7600\n",
            "\n",
            "Epoch: 80\n",
            "----------\n",
            "Train loss: 0.7267 | Train acc: 0.8786\n",
            "  Val loss: 1.1347 |   Val acc: 0.7760\n",
            "\n",
            "Epoch: 100\n",
            "----------\n",
            "Train loss: 0.5492 | Train acc: 0.9643\n",
            "  Val loss: 1.0062 |   Val acc: 0.7880\n",
            "\n",
            "Epoch: 120\n",
            "----------\n",
            "Train loss: 0.5089 | Train acc: 0.9357\n",
            "  Val loss: 0.9384 |   Val acc: 0.7760\n",
            "\n",
            "Early stopping...\n",
            "\n",
            "Epoch: 138\n",
            "----------\n",
            "Train loss: 0.4732 | Train acc: 0.9429\n",
            "  Val loss: 0.9137 |   Val acc: 0.7800\n",
            " Test loss: 0.8870 |  Test acc: 0.8020\n"
          ]
        },
        {
          "output_type": "display_data",
          "data": {
            "image/png": "[encoded data removed]",
            "text/plain": [
              "<Figure size 864x288 with 2 Axes>"
            ]
          },
          "metadata": {
            "needs_background": "light"
          }
        }
      ],
      "source": [
        "SEED = 42\n",
        "MAX_EPOCHS = 200\n",
        "LEARNING_RATE = 0.01\n",
        "WEIGHT_DECAY = 5e-4\n",
        "EARLY_STOPPING = 10\n",
        "\n",
        "\n",
        "torch.manual_seed(SEED)\n",
        "device = torch.device(\"cuda\" if torch.cuda.is_available() else \"cpu\")\n",
        "\n",
        "model = GCN(dataset.num_node_features, dataset.num_classes).to(device)\n",
        "data = dataset[0].to(device)\n",
        "optimizer = torch.optim.Adam(model.parameters(), lr=LEARNING_RATE, weight_decay=WEIGHT_DECAY)\n",
        "history = train(model, data, optimizer, max_epochs=MAX_EPOCHS, early_stopping=EARLY_STOPPING)\n",
        "\n",
        "plt.figure(figsize=(12, 4))\n",
        "plot_history(history, \"GCN\")"
      ]
    }
  ],
  "metadata": {
    "colab": {
      "name": "cs224w_06-graph-neural-networks-1-gnn-model.ipynb",
      "provenance": [],
      "include_colab_link": true
    },
    "kernelspec": {
      "display_name": "Python 3",
      "language": "python",
      "name": "python3"
    },
    "language_info": {
      "codemirror_mode": {
        "name": "ipython",
        "version": 3
      },
      "file_extension": ".py",
      "mimetype": "text/x-python",
      "name": "python",
      "nbconvert_exporter": "python",
      "pygments_lexer": "ipython3",
      "version": "3.7.12"
    },
    "accelerator": "GPU"
  },
  "nbformat": 4,
  "nbformat_minor": 0
}