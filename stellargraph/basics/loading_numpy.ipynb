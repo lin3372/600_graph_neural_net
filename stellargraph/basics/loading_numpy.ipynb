{
  "cells": [
    {
      "cell_type": "markdown",
      "metadata": {
        "id": "view-in-github",
        "colab_type": "text"
      },
      "source": [
        "<a href=\"https://colab.research.google.com/github/lin3372/600_graph_neural_net/blob/main/stellargraph/basics/loading_numpy.ipynb\" target=\"_parent\"><img src=\"https://colab.research.google.com/assets/colab-badge.svg\" alt=\"Open In Colab\"/></a>"
      ]
    },
    {
      "cell_type": "markdown",
      "metadata": {
        "id": "TZs1qIKLahpG"
      },
      "source": [
        "# Loading data into StellarGraph from NumPy\n",
        "\n",
        "> This demo explains how to load data from NumPy into a form that can be used by the StellarGraph library. [See all other demos](../README.md).\n",
        "\n",
        "* [github - stellargraph](https://github.com/stellargraph/stellargraph)\n",
        "* [github - loading-numpy.ipynb](https://colab.research.google.com/github/stellargraph/stellargraph/blob/master/demos/basics/loading-numpy.ipynb)\n"
      ]
    },
    {
      "cell_type": "markdown",
      "metadata": {
        "nbsphinx": "hidden",
        "tags": [
          "CloudRunner"
        ],
        "id": "iBYb2X25ahpL"
      },
      "source": [
        "<table><tr><td>Run the latest release of this notebook:</td><td><a href=\"https://mybinder.org/v2/gh/stellargraph/stellargraph/master?urlpath=lab/tree/demos/basics/loading-numpy.ipynb\" alt=\"Open In Binder\" target=\"_parent\"><img src=\"https://mybinder.org/badge_logo.svg\"/></a></td><td><a href=\"https://colab.research.google.com/github/stellargraph/stellargraph/blob/master/demos/basics/loading-numpy.ipynb\" alt=\"Open In Colab\" target=\"_parent\"><img src=\"https://colab.research.google.com/assets/colab-badge.svg\"/></a></td></tr></table>"
      ]
    },
    {
      "cell_type": "markdown",
      "metadata": {
        "id": "v06kBxuYahpM"
      },
      "source": [
        "[The StellarGraph library](https://github.com/stellargraph/stellargraph) supports loading graph information from NumPy. [NumPy](https://www.numpy.org) is a library for working with data arrays.\n",
        "\n",
        "If your data can easily be loaded into a NumPy array, this is a great way to load it that has minimal overhead and offers the most control.\n",
        "\n",
        "This notebook walks through loading three kinds of graphs.\n",
        "\n",
        "- homogeneous graph with feature vectors\n",
        "- homogeneous graph with feature tensors\n",
        "- heterogeneous graph with feature vectors and tensors\n",
        "\n",
        "> StellarGraph supports loading data from many sources with all sorts of data preprocessing, via [Pandas](https://pandas.pydata.org) DataFrames, [NumPy](https://www.numpy.org) arrays, [Neo4j](https://neo4j.com) and [NetworkX](https://networkx.github.io) graphs. This notebook demonstrates loading data from NumPy. See [the other loading demos](README.md) for more details.\n",
        "\n",
        "This notebook only uses NumPy for the node features, with Pandas used for the edge data. The details and options for loading edge data in this format are discussed in [the \"Loading data into StellarGraph from Pandas\" demo](loading-pandas.ipynb).\n",
        "\n",
        "Additionally, if the node features are in a complicated format for loading and/or requires significant preprocessing, loading via Pandas is likely to be more convenient.\n",
        "\n",
        "The [documentation](https://stellargraph.readthedocs.io/en/stable/api.html#stellargraph.StellarGraph) for the `StellarGraph` class includes a compressed reminder of everything discussed in this file, as well as explanations of all of the parameters.\n",
        "\n",
        "The `StellarGraph` class is available at the top level of the `stellargraph` library:"
      ]
    },
    {
      "cell_type": "code",
      "execution_count": null,
      "metadata": {
        "nbsphinx": "hidden",
        "tags": [
          "CloudRunner"
        ],
        "id": "kEWr145cahpN",
        "colab": {
          "base_uri": "https://localhost:8080/"
        },
        "outputId": "c40f0aa6-832b-4f81-f248-cd004f504ed1"
      },
      "outputs": [
        {
          "output_type": "stream",
          "name": "stdout",
          "text": [
            "\u001b[K     |████████████████████████████████| 435 kB 13.7 MB/s \n",
            "\u001b[K     |████████████████████████████████| 482 kB 78.3 MB/s \n",
            "\u001b[K     |████████████████████████████████| 41 kB 459 kB/s \n",
            "\u001b[?25h  Building wheel for mplleaflet (setup.py) ... \u001b[?25l\u001b[?25hdone\n"
          ]
        }
      ],
      "source": [
        "# install StellarGraph if running on Google Colab\n",
        "import sys\n",
        "if 'google.colab' in sys.modules:\n",
        "  %pip install -q stellargraph[demos]==1.2.1"
      ]
    },
    {
      "cell_type": "code",
      "execution_count": null,
      "metadata": {
        "nbsphinx": "hidden",
        "tags": [
          "VersionCheck"
        ],
        "id": "cL823wkJahpP"
      },
      "outputs": [],
      "source": [
        "# verify that we're using the correct version of StellarGraph for this notebook\n",
        "import stellargraph as sg\n",
        "\n",
        "try:\n",
        "    sg.utils.validate_notebook_version(\"1.2.1\")\n",
        "except AttributeError:\n",
        "    raise ValueError(\n",
        "        f\"This notebook requires StellarGraph version 1.2.1, but a different version {sg.__version__} is installed.  Please see <https://github.com/stellargraph/stellargraph/issues/1172>.\"\n",
        "    ) from None"
      ]
    },
    {
      "cell_type": "code",
      "execution_count": null,
      "metadata": {
        "id": "qWtyc5S0ahpQ"
      },
      "outputs": [],
      "source": [
        "from stellargraph import StellarGraph"
      ]
    },
    {
      "cell_type": "markdown",
      "metadata": {
        "id": "LEpqWTTDahpR"
      },
      "source": [
        "## Loading via NumPy\n",
        "\n",
        "A StellarGraph has two basic components:\n",
        "\n",
        "- nodes, with feature arrays or tensors\n",
        "- edges, consisting of a pair of nodes as the source and target, and feature arrays or tensors\n",
        "\n",
        "A NumPy array consists of a large number of values of a single type. It is thus appropriate for the feature arrays in nodes, but not as useful for edges, because the source and target node IDs may be different. Thus, node data can be input as a NumPy array directly, but edge data cannot. The latter still uses Pandas."
      ]
    },
    {
      "cell_type": "code",
      "execution_count": null,
      "metadata": {
        "id": "gvsdxaAUahpS"
      },
      "outputs": [],
      "source": [
        "import numpy as np\n",
        "import pandas as pd"
      ]
    },
    {
      "cell_type": "markdown",
      "metadata": {
        "id": "_J8Z7en7ahpS"
      },
      "source": [
        "## Sequential numeric graph structure\n",
        "\n",
        "As with the Pandas demo, we'll be working with a square graph. For simplicity, we'll start with a graph where the identifiers of nodes are sequential integers starting at 0:\n",
        "\n",
        "```\n",
        "0 -- 1\n",
        "| \\  |\n",
        "|  \\ |\n",
        "3 -- 2\n",
        "```\n",
        "\n",
        "The edges of this graph can easily be encoded as the rows of a Pandas DataFrame:"
      ]
    },
    {
      "cell_type": "code",
      "execution_count": null,
      "metadata": {
        "id": "CNfLpIgeahpT",
        "outputId": "f332aa3b-7cf6-4cec-ab2e-70f8182d4c8a",
        "colab": {
          "base_uri": "https://localhost:8080/",
          "height": 206
        }
      },
      "outputs": [
        {
          "output_type": "execute_result",
          "data": {
            "text/html": [
              "\n",
              "  <div id=\"df-df7fef58-04d4-4cb8-a414-aa85588dda97\">\n",
              "    <div class=\"colab-df-container\">\n",
              "      <div>\n",
              "<style scoped>\n",
              "    .dataframe tbody tr th:only-of-type {\n",
              "        vertical-align: middle;\n",
              "    }\n",
              "\n",
              "    .dataframe tbody tr th {\n",
              "        vertical-align: top;\n",
              "    }\n",
              "\n",
              "    .dataframe thead th {\n",
              "        text-align: right;\n",
              "    }\n",
              "</style>\n",
              "<table border=\"1\" class=\"dataframe\">\n",
              "  <thead>\n",
              "    <tr style=\"text-align: right;\">\n",
              "      <th></th>\n",
              "      <th>source</th>\n",
              "      <th>target</th>\n",
              "    </tr>\n",
              "  </thead>\n",
              "  <tbody>\n",
              "    <tr>\n",
              "      <th>0</th>\n",
              "      <td>0</td>\n",
              "      <td>1</td>\n",
              "    </tr>\n",
              "    <tr>\n",
              "      <th>1</th>\n",
              "      <td>1</td>\n",
              "      <td>2</td>\n",
              "    </tr>\n",
              "    <tr>\n",
              "      <th>2</th>\n",
              "      <td>2</td>\n",
              "      <td>3</td>\n",
              "    </tr>\n",
              "    <tr>\n",
              "      <th>3</th>\n",
              "      <td>3</td>\n",
              "      <td>0</td>\n",
              "    </tr>\n",
              "    <tr>\n",
              "      <th>4</th>\n",
              "      <td>0</td>\n",
              "      <td>2</td>\n",
              "    </tr>\n",
              "  </tbody>\n",
              "</table>\n",
              "</div>\n",
              "      <button class=\"colab-df-convert\" onclick=\"convertToInteractive('df-df7fef58-04d4-4cb8-a414-aa85588dda97')\"\n",
              "              title=\"Convert this dataframe to an interactive table.\"\n",
              "              style=\"display:none;\">\n",
              "        \n",
              "  <svg xmlns=\"http://www.w3.org/2000/svg\" height=\"24px\"viewBox=\"0 0 24 24\"\n",
              "       width=\"24px\">\n",
              "    <path d=\"M0 0h24v24H0V0z\" fill=\"none\"/>\n",
              "    <path d=\"M18.56 5.44l.94 2.06.94-2.06 2.06-.94-2.06-.94-.94-2.06-.94 2.06-2.06.94zm-11 1L8.5 8.5l.94-2.06 2.06-.94-2.06-.94L8.5 2.5l-.94 2.06-2.06.94zm10 10l.94 2.06.94-2.06 2.06-.94-2.06-.94-.94-2.06-.94 2.06-2.06.94z\"/><path d=\"M17.41 7.96l-1.37-1.37c-.4-.4-.92-.59-1.43-.59-.52 0-1.04.2-1.43.59L10.3 9.45l-7.72 7.72c-.78.78-.78 2.05 0 2.83L4 21.41c.39.39.9.59 1.41.59.51 0 1.02-.2 1.41-.59l7.78-7.78 2.81-2.81c.8-.78.8-2.07 0-2.86zM5.41 20L4 18.59l7.72-7.72 1.47 1.35L5.41 20z\"/>\n",
              "  </svg>\n",
              "      </button>\n",
              "      \n",
              "  <style>\n",
              "    .colab-df-container {\n",
              "      display:flex;\n",
              "      flex-wrap:wrap;\n",
              "      gap: 12px;\n",
              "    }\n",
              "\n",
              "    .colab-df-convert {\n",
              "      background-color: #E8F0FE;\n",
              "      border: none;\n",
              "      border-radius: 50%;\n",
              "      cursor: pointer;\n",
              "      display: none;\n",
              "      fill: #1967D2;\n",
              "      height: 32px;\n",
              "      padding: 0 0 0 0;\n",
              "      width: 32px;\n",
              "    }\n",
              "\n",
              "    .colab-df-convert:hover {\n",
              "      background-color: #E2EBFA;\n",
              "      box-shadow: 0px 1px 2px rgba(60, 64, 67, 0.3), 0px 1px 3px 1px rgba(60, 64, 67, 0.15);\n",
              "      fill: #174EA6;\n",
              "    }\n",
              "\n",
              "    [theme=dark] .colab-df-convert {\n",
              "      background-color: #3B4455;\n",
              "      fill: #D2E3FC;\n",
              "    }\n",
              "\n",
              "    [theme=dark] .colab-df-convert:hover {\n",
              "      background-color: #434B5C;\n",
              "      box-shadow: 0px 1px 3px 1px rgba(0, 0, 0, 0.15);\n",
              "      filter: drop-shadow(0px 1px 2px rgba(0, 0, 0, 0.3));\n",
              "      fill: #FFFFFF;\n",
              "    }\n",
              "  </style>\n",
              "\n",
              "      <script>\n",
              "        const buttonEl =\n",
              "          document.querySelector('#df-df7fef58-04d4-4cb8-a414-aa85588dda97 button.colab-df-convert');\n",
              "        buttonEl.style.display =\n",
              "          google.colab.kernel.accessAllowed ? 'block' : 'none';\n",
              "\n",
              "        async function convertToInteractive(key) {\n",
              "          const element = document.querySelector('#df-df7fef58-04d4-4cb8-a414-aa85588dda97');\n",
              "          const dataTable =\n",
              "            await google.colab.kernel.invokeFunction('convertToInteractive',\n",
              "                                                     [key], {});\n",
              "          if (!dataTable) return;\n",
              "\n",
              "          const docLinkHtml = 'Like what you see? Visit the ' +\n",
              "            '<a target=\"_blank\" href=https://colab.research.google.com/notebooks/data_table.ipynb>data table notebook</a>'\n",
              "            + ' to learn more about interactive tables.';\n",
              "          element.innerHTML = '';\n",
              "          dataTable['output_type'] = 'display_data';\n",
              "          await google.colab.output.renderOutput(dataTable, element);\n",
              "          const docLink = document.createElement('div');\n",
              "          docLink.innerHTML = docLinkHtml;\n",
              "          element.appendChild(docLink);\n",
              "        }\n",
              "      </script>\n",
              "    </div>\n",
              "  </div>\n",
              "  "
            ],
            "text/plain": [
              "   source  target\n",
              "0       0       1\n",
              "1       1       2\n",
              "2       2       3\n",
              "3       3       0\n",
              "4       0       2"
            ]
          },
          "metadata": {},
          "execution_count": 5
        }
      ],
      "source": [
        "square_numeric_edges = pd.DataFrame(\n",
        "    {\"source\": [0, 1, 2, 3, 0], \"target\": [1, 2, 3, 0, 2]}\n",
        ")\n",
        "square_numeric_edges"
      ]
    },
    {
      "cell_type": "markdown",
      "metadata": {
        "id": "ZmhpjhG1ahpU"
      },
      "source": [
        "## Homogeneous graph with sequential IDs and **feature vectors**\n",
        "\n",
        "Now, suppose we have some feature vectors associated with each node in our square graph. For instance, maybe node `0` has features `[1, -0.2]`. This can come in the form of a 4 × 2 matrix, with one row per node, with row `0` being features for the `0` node, and so on. Filling out the rest of the example data:"
      ]
    },
    {
      "cell_type": "code",
      "execution_count": null,
      "metadata": {
        "id": "w_zqrNn5ahpV",
        "outputId": "dd65eac4-2950-4abf-8340-047b2eb577cd",
        "colab": {
          "base_uri": "https://localhost:8080/"
        }
      },
      "outputs": [
        {
          "output_type": "execute_result",
          "data": {
            "text/plain": [
              "array([[ 1. , -0.2],\n",
              "       [ 2. ,  0.3],\n",
              "       [ 3. ,  0. ],\n",
              "       [ 4. , -0.5]], dtype=float32)"
            ]
          },
          "metadata": {},
          "execution_count": 6
        }
      ],
      "source": [
        "feature_array = np.array(\n",
        "    [[1.0, -0.2], [2.0, 0.3], [3.0, 0.0], [4.0, -0.5]], dtype=np.float32\n",
        ")\n",
        "feature_array"
      ]
    },
    {
      "cell_type": "markdown",
      "metadata": {
        "id": "F_Qx8SXoahpV"
      },
      "source": [
        "Because our nodes have IDs `0`, `1`, ..., we can construct the `StellarGraph` by passing in the feature array directly, along with the edges:"
      ]
    },
    {
      "cell_type": "code",
      "execution_count": null,
      "metadata": {
        "id": "f0c8HXW1ahpV"
      },
      "outputs": [],
      "source": [
        "square_numeric = StellarGraph(feature_array, square_numeric_edges)"
      ]
    },
    {
      "cell_type": "markdown",
      "metadata": {
        "id": "F-QELYETahpW"
      },
      "source": [
        "The `info` method ([docs](https://stellargraph.readthedocs.io/en/stable/api.html#stellargraph.StellarGraph.info)) gives a high-level summary of a `StellarGraph`:"
      ]
    },
    {
      "cell_type": "code",
      "execution_count": null,
      "metadata": {
        "id": "R69ohgnYahpW",
        "outputId": "72b35b3e-26e2-4931-bc9d-baafe46488e0",
        "colab": {
          "base_uri": "https://localhost:8080/"
        }
      },
      "outputs": [
        {
          "output_type": "stream",
          "name": "stdout",
          "text": [
            "StellarGraph: Undirected multigraph\n",
            " Nodes: 4, Edges: 5\n",
            "\n",
            " Node types:\n",
            "  default: [4]\n",
            "    Features: float32 vector, length 2\n",
            "    Edge types: default-default->default\n",
            "\n",
            " Edge types:\n",
            "    default-default->default: [5]\n",
            "        Weights: all 1 (default)\n",
            "        Features: none\n"
          ]
        }
      ],
      "source": [
        "print(square_numeric.info())"
      ]
    },
    {
      "cell_type": "markdown",
      "metadata": {
        "id": "L9ceUhYsahpW"
      },
      "source": [
        "On this square, it tells us that there's 4 nodes of type `default` (a homogeneous graph still has node and edge types, but they default to `default`), with 2 features, and one type of edge that touches it. It also tells us that there's 5 edges of type `default` that go between nodes of type `default`. This matches what we expect: it's a graph with 4 nodes and 5 edges and one type of each.\n",
        "\n",
        "The default node type and edge types can be set using the `node_type_default` and `edge_type_default` parameters to `StellarGraph(...)`:"
      ]
    },
    {
      "cell_type": "code",
      "execution_count": null,
      "metadata": {
        "id": "ulaIxWhIahpW",
        "outputId": "eded6986-a856-4c1b-916c-03512343a536",
        "colab": {
          "base_uri": "https://localhost:8080/"
        }
      },
      "outputs": [
        {
          "output_type": "stream",
          "name": "stdout",
          "text": [
            "StellarGraph: Undirected multigraph\n",
            " Nodes: 4, Edges: 5\n",
            "\n",
            " Node types:\n",
            "  corner: [4]\n",
            "    Features: float32 vector, length 2\n",
            "    Edge types: corner-line->corner\n",
            "\n",
            " Edge types:\n",
            "    corner-line->corner: [5]\n",
            "        Weights: all 1 (default)\n",
            "        Features: none\n"
          ]
        }
      ],
      "source": [
        "square_numeric_named = StellarGraph(\n",
        "    feature_array,\n",
        "    square_numeric_edges,\n",
        "    node_type_default=\"corner\",\n",
        "    edge_type_default=\"line\",\n",
        ")\n",
        "print(square_numeric_named.info())"
      ]
    },
    {
      "cell_type": "markdown",
      "metadata": {
        "id": "lrdMmxhKahpX"
      },
      "source": [
        "## Non-sequential graph structure\n",
        "\n",
        "Requiring node identifiers to always be sequential integers from 0 is restrictive. Most real-world graphs don't have such neat IDs. For instance, maybe our graph instead uses strings as IDs:\n",
        "\n",
        "```\n",
        "a -- b\n",
        "| \\  |\n",
        "|  \\ |\n",
        "d -- c\n",
        "```\n",
        "\n",
        "As before, these edges get encoded as a DataFrame:"
      ]
    },
    {
      "cell_type": "code",
      "execution_count": null,
      "metadata": {
        "id": "ntxHWI4AahpX",
        "outputId": "2049daab-77f5-4e9d-ed4e-1ba6db02e3f7",
        "colab": {
          "base_uri": "https://localhost:8080/",
          "height": 206
        }
      },
      "outputs": [
        {
          "output_type": "execute_result",
          "data": {
            "text/html": [
              "\n",
              "  <div id=\"df-705d8b94-8f1f-47ca-bc16-f0501dd85404\">\n",
              "    <div class=\"colab-df-container\">\n",
              "      <div>\n",
              "<style scoped>\n",
              "    .dataframe tbody tr th:only-of-type {\n",
              "        vertical-align: middle;\n",
              "    }\n",
              "\n",
              "    .dataframe tbody tr th {\n",
              "        vertical-align: top;\n",
              "    }\n",
              "\n",
              "    .dataframe thead th {\n",
              "        text-align: right;\n",
              "    }\n",
              "</style>\n",
              "<table border=\"1\" class=\"dataframe\">\n",
              "  <thead>\n",
              "    <tr style=\"text-align: right;\">\n",
              "      <th></th>\n",
              "      <th>source</th>\n",
              "      <th>target</th>\n",
              "    </tr>\n",
              "  </thead>\n",
              "  <tbody>\n",
              "    <tr>\n",
              "      <th>0</th>\n",
              "      <td>a</td>\n",
              "      <td>b</td>\n",
              "    </tr>\n",
              "    <tr>\n",
              "      <th>1</th>\n",
              "      <td>b</td>\n",
              "      <td>c</td>\n",
              "    </tr>\n",
              "    <tr>\n",
              "      <th>2</th>\n",
              "      <td>c</td>\n",
              "      <td>d</td>\n",
              "    </tr>\n",
              "    <tr>\n",
              "      <th>3</th>\n",
              "      <td>d</td>\n",
              "      <td>a</td>\n",
              "    </tr>\n",
              "    <tr>\n",
              "      <th>4</th>\n",
              "      <td>a</td>\n",
              "      <td>c</td>\n",
              "    </tr>\n",
              "  </tbody>\n",
              "</table>\n",
              "</div>\n",
              "      <button class=\"colab-df-convert\" onclick=\"convertToInteractive('df-705d8b94-8f1f-47ca-bc16-f0501dd85404')\"\n",
              "              title=\"Convert this dataframe to an interactive table.\"\n",
              "              style=\"display:none;\">\n",
              "        \n",
              "  <svg xmlns=\"http://www.w3.org/2000/svg\" height=\"24px\"viewBox=\"0 0 24 24\"\n",
              "       width=\"24px\">\n",
              "    <path d=\"M0 0h24v24H0V0z\" fill=\"none\"/>\n",
              "    <path d=\"M18.56 5.44l.94 2.06.94-2.06 2.06-.94-2.06-.94-.94-2.06-.94 2.06-2.06.94zm-11 1L8.5 8.5l.94-2.06 2.06-.94-2.06-.94L8.5 2.5l-.94 2.06-2.06.94zm10 10l.94 2.06.94-2.06 2.06-.94-2.06-.94-.94-2.06-.94 2.06-2.06.94z\"/><path d=\"M17.41 7.96l-1.37-1.37c-.4-.4-.92-.59-1.43-.59-.52 0-1.04.2-1.43.59L10.3 9.45l-7.72 7.72c-.78.78-.78 2.05 0 2.83L4 21.41c.39.39.9.59 1.41.59.51 0 1.02-.2 1.41-.59l7.78-7.78 2.81-2.81c.8-.78.8-2.07 0-2.86zM5.41 20L4 18.59l7.72-7.72 1.47 1.35L5.41 20z\"/>\n",
              "  </svg>\n",
              "      </button>\n",
              "      \n",
              "  <style>\n",
              "    .colab-df-container {\n",
              "      display:flex;\n",
              "      flex-wrap:wrap;\n",
              "      gap: 12px;\n",
              "    }\n",
              "\n",
              "    .colab-df-convert {\n",
              "      background-color: #E8F0FE;\n",
              "      border: none;\n",
              "      border-radius: 50%;\n",
              "      cursor: pointer;\n",
              "      display: none;\n",
              "      fill: #1967D2;\n",
              "      height: 32px;\n",
              "      padding: 0 0 0 0;\n",
              "      width: 32px;\n",
              "    }\n",
              "\n",
              "    .colab-df-convert:hover {\n",
              "      background-color: #E2EBFA;\n",
              "      box-shadow: 0px 1px 2px rgba(60, 64, 67, 0.3), 0px 1px 3px 1px rgba(60, 64, 67, 0.15);\n",
              "      fill: #174EA6;\n",
              "    }\n",
              "\n",
              "    [theme=dark] .colab-df-convert {\n",
              "      background-color: #3B4455;\n",
              "      fill: #D2E3FC;\n",
              "    }\n",
              "\n",
              "    [theme=dark] .colab-df-convert:hover {\n",
              "      background-color: #434B5C;\n",
              "      box-shadow: 0px 1px 3px 1px rgba(0, 0, 0, 0.15);\n",
              "      filter: drop-shadow(0px 1px 2px rgba(0, 0, 0, 0.3));\n",
              "      fill: #FFFFFF;\n",
              "    }\n",
              "  </style>\n",
              "\n",
              "      <script>\n",
              "        const buttonEl =\n",
              "          document.querySelector('#df-705d8b94-8f1f-47ca-bc16-f0501dd85404 button.colab-df-convert');\n",
              "        buttonEl.style.display =\n",
              "          google.colab.kernel.accessAllowed ? 'block' : 'none';\n",
              "\n",
              "        async function convertToInteractive(key) {\n",
              "          const element = document.querySelector('#df-705d8b94-8f1f-47ca-bc16-f0501dd85404');\n",
              "          const dataTable =\n",
              "            await google.colab.kernel.invokeFunction('convertToInteractive',\n",
              "                                                     [key], {});\n",
              "          if (!dataTable) return;\n",
              "\n",
              "          const docLinkHtml = 'Like what you see? Visit the ' +\n",
              "            '<a target=\"_blank\" href=https://colab.research.google.com/notebooks/data_table.ipynb>data table notebook</a>'\n",
              "            + ' to learn more about interactive tables.';\n",
              "          element.innerHTML = '';\n",
              "          dataTable['output_type'] = 'display_data';\n",
              "          await google.colab.output.renderOutput(dataTable, element);\n",
              "          const docLink = document.createElement('div');\n",
              "          docLink.innerHTML = docLinkHtml;\n",
              "          element.appendChild(docLink);\n",
              "        }\n",
              "      </script>\n",
              "    </div>\n",
              "  </div>\n",
              "  "
            ],
            "text/plain": [
              "  source target\n",
              "0      a      b\n",
              "1      b      c\n",
              "2      c      d\n",
              "3      d      a\n",
              "4      a      c"
            ]
          },
          "metadata": {},
          "execution_count": 28
        }
      ],
      "source": [
        "square_edges = pd.DataFrame(\n",
        "    {\"source\": [\"a\", \"b\", \"c\", \"d\", \"a\"], \"target\": [\"b\", \"c\", \"d\", \"a\", \"c\"]}\n",
        ")\n",
        "square_edges"
      ]
    },
    {
      "cell_type": "markdown",
      "metadata": {
        "id": "v0VC_CJHahpX"
      },
      "source": [
        "## Homogeneous graph with non-numeric IDs and feature vectors\n",
        "\n",
        "With non-sequential, non-numeric IDs, we cannot use a NumPy array directly, because we need to know which row of the array corresponds to which node. This is done with the `IndexedArray` ([docs](https://stellargraph.readthedocs.io/en/stable/api.html#stellargraph.IndexedArray)) type. It is a much simplified Pandas DataFrame, that is generalised to be more than 2-dimensional. It is available at the top level of `stellargraph`, and supports an `index` parameter to define the mapping from row to node. The `index` should have one element per row of the NumPy array."
      ]
    },
    {
      "cell_type": "code",
      "execution_count": null,
      "metadata": {
        "id": "GZy9OPBrahpY"
      },
      "outputs": [],
      "source": [
        "from stellargraph import IndexedArray"
      ]
    },
    {
      "cell_type": "code",
      "execution_count": null,
      "metadata": {
        "id": "aFVMUBHqahpY"
      },
      "outputs": [],
      "source": [
        "indexed_array = IndexedArray(feature_array, index=[\"a\", \"b\", \"c\", \"d\"])"
      ]
    },
    {
      "cell_type": "code",
      "execution_count": null,
      "metadata": {
        "id": "6YeLxl9dahpY",
        "outputId": "afa35949-23eb-4af0-d944-8d650a8123fd",
        "colab": {
          "base_uri": "https://localhost:8080/"
        }
      },
      "outputs": [
        {
          "output_type": "stream",
          "name": "stdout",
          "text": [
            "StellarGraph: Undirected multigraph\n",
            " Nodes: 4, Edges: 5\n",
            "\n",
            " Node types:\n",
            "  corner: [4]\n",
            "    Features: float32 vector, length 2\n",
            "    Edge types: corner-line->corner\n",
            "\n",
            " Edge types:\n",
            "    corner-line->corner: [5]\n",
            "        Weights: all 1 (default)\n",
            "        Features: none\n"
          ]
        }
      ],
      "source": [
        "square_named = StellarGraph(\n",
        "    indexed_array, square_edges, node_type_default=\"corner\", edge_type_default=\"line\",\n",
        ")\n",
        "print(square_named.info())"
      ]
    },
    {
      "cell_type": "markdown",
      "metadata": {
        "id": "wIBSWZBOahpY"
      },
      "source": [
        "As before, there's 4 nodes, each with features of length 2."
      ]
    },
    {
      "cell_type": "markdown",
      "metadata": {
        "id": "NZaHSiLuahpY"
      },
      "source": [
        "## Homogeneous graph with non-numeric IDs and feature tensors\n",
        "\n",
        "Some algorithms work with than just a feature vector associated with each node. For instance, if each node corresponds to a weather station, one might have a time series of observations like \"temperature\" and \"pressure\" associated with each node. This is modelled by having a multidimensional feature for each node.\n",
        "\n",
        "Time series algorithms within StellarGraph expect the tensor to be shaped like `nodes × time steps × variates`. For the weather station example, `nodes` is the number of weather stations, `time steps` is the number of points within each series and `variates` is the number of observations at each time step.\n",
        "\n",
        "For our square graph, we might have time series of length three, containing two observations."
      ]
    },
    {
      "cell_type": "code",
      "execution_count": null,
      "metadata": {
        "id": "SyhQ_828ahpZ",
        "outputId": "842275a5-8482-4009-aa2d-a5bdd2610ed7",
        "colab": {
          "base_uri": "https://localhost:8080/"
        }
      },
      "outputs": [
        {
          "output_type": "execute_result",
          "data": {
            "text/plain": [
              "array([[[ 1.  , -0.2 ],\n",
              "        [ 1.  ,  0.1 ],\n",
              "        [ 0.9 ,  0.1 ]],\n",
              "\n",
              "       [[ 2.  ,  0.3 ],\n",
              "        [ 1.9 ,  0.31],\n",
              "        [ 2.1 ,  0.32]],\n",
              "\n",
              "       [[ 3.  ,  0.  ],\n",
              "        [10.  ,  0.  ],\n",
              "        [ 3.  ,  0.  ]],\n",
              "\n",
              "       [[ 4.  , -0.5 ],\n",
              "        [ 0.  , -1.  ],\n",
              "        [ 1.  , -3.  ]]], dtype=float32)"
            ]
          },
          "metadata": {},
          "execution_count": 14
        }
      ],
      "source": [
        "feature_tensors = np.array(\n",
        "    [\n",
        "        [[1.0, -0.2], [1.0, 0.1], [0.9, 0.1]],\n",
        "        [[2.0, 0.3], [1.9, 0.31], [2.1, 0.32]],\n",
        "        [[3.0, 0.0], [10.0, 0.0], [3.0, 0.0]],\n",
        "        [[4.0, -0.5], [0.0, -1.0], [1.0, -3.0]],\n",
        "    ],\n",
        "    dtype=np.float32,\n",
        ")\n",
        "feature_tensors"
      ]
    },
    {
      "cell_type": "code",
      "execution_count": null,
      "metadata": {
        "id": "HmRl992QahpZ"
      },
      "outputs": [],
      "source": [
        "indexed_tensors = IndexedArray(feature_tensors, index=[\"a\", \"b\", \"c\", \"d\"])"
      ]
    },
    {
      "cell_type": "code",
      "execution_count": null,
      "metadata": {
        "id": "1mgdChqNahpZ",
        "outputId": "d47dfd66-047d-45f3-a59f-a761eab423f7",
        "colab": {
          "base_uri": "https://localhost:8080/"
        }
      },
      "outputs": [
        {
          "output_type": "stream",
          "name": "stdout",
          "text": [
            "StellarGraph: Undirected multigraph\n",
            " Nodes: 4, Edges: 5\n",
            "\n",
            " Node types:\n",
            "  corner: [4]\n",
            "    Features: float32 tensor, shape (3, 2)\n",
            "    Edge types: corner-line->corner\n",
            "\n",
            " Edge types:\n",
            "    corner-line->corner: [5]\n",
            "        Weights: all 1 (default)\n",
            "        Features: none\n"
          ]
        }
      ],
      "source": [
        "square_tensors = StellarGraph(\n",
        "    indexed_tensors, square_edges, node_type_default=\"corner\", edge_type_default=\"line\",\n",
        ")\n",
        "print(square_tensors.info())"
      ]
    },
    {
      "cell_type": "markdown",
      "metadata": {
        "id": "LZgZljbYahpa"
      },
      "source": [
        "We can see that the features of the `corner` nodes are now listed as a tensor, with shape 3 × 2, matching the array we created above."
      ]
    },
    {
      "cell_type": "markdown",
      "metadata": {
        "id": "c5bIgFi5ahpa"
      },
      "source": [
        "## Heterogeneous graphs\n",
        "\n",
        "Some graphs have multiple types of nodes.\n",
        "\n",
        "For example, an academic citation network that includes authors might have `wrote` edges connecting `author` nodes to `paper` nodes, in addition to the `cites` edges between `paper` nodes. There could be `supervised` edges between `author`s ([example](https://academictree.org)) too, or any number of additional node and edge types. A knowledge graph (aka RDF, triple stores or knowledge base) is an extreme form of an heterogeneous graph, with dozens, hundreds or even thousands of edge (or relation) types. Typically in a knowledge graph, edges and their types represent the information associated with a node, rather than node features.\n",
        "\n",
        "`StellarGraph` supports all forms of heterogeneous graphs.\n",
        "\n",
        "A heterogeneous `StellarGraph` can be constructed in a similar way to a homogeneous graph, except we pass a dictionary with multiple elements instead of a single element like we did in the \"homogeneous graph with features\" section and others above. For a heterogeneous graph, a dictionary has to be passed; passing a single `IndexedArray` does not work.\n",
        "\n",
        "Let's return to the square graph from earlier:\n",
        "\n",
        "```\n",
        "a -- b\n",
        "| \\  |\n",
        "|  \\ |\n",
        "d -- c\n",
        "```\n",
        "\n",
        "### Feature arrays\n",
        "\n",
        "Suppose `a` is of type `foo`, and no features, but `b`, `c` and `d` are of type `bar` and have two features each, e.g. for `b`, `0.4, 100`. Since the features are different shapes (`a` has zero), they need to be modeled as different types, with separate `IndexedArray`s."
      ]
    },
    {
      "cell_type": "code",
      "execution_count": null,
      "metadata": {
        "id": "j8h9AYNzahpa"
      },
      "outputs": [],
      "source": [
        "square_foo = IndexedArray(index=[\"a\"])"
      ]
    },
    {
      "cell_type": "code",
      "execution_count": null,
      "metadata": {
        "id": "E1JRGULnahpa",
        "outputId": "882802db-355a-456d-dd20-e8a23e4716ba",
        "colab": {
          "base_uri": "https://localhost:8080/"
        }
      },
      "outputs": [
        {
          "output_type": "execute_result",
          "data": {
            "text/plain": [
              "array([[4.e-01, 1.e+02],\n",
              "       [1.e-01, 2.e+02],\n",
              "       [9.e-01, 3.e+02]])"
            ]
          },
          "metadata": {},
          "execution_count": 18
        }
      ],
      "source": [
        "bar_features = np.array([[0.4, 100], [0.1, 200], [0.9, 300]])\n",
        "bar_features"
      ]
    },
    {
      "cell_type": "code",
      "execution_count": null,
      "metadata": {
        "id": "R0vLmjnsahpa"
      },
      "outputs": [],
      "source": [
        "square_bar = IndexedArray(bar_features, index=[\"b\", \"c\", \"d\"])"
      ]
    },
    {
      "cell_type": "markdown",
      "metadata": {
        "id": "HpoQINcGahpb"
      },
      "source": [
        "We have the information for the two node types `foo` and `bar` in separate DataFrames, so we can now put them in a dictionary to create a `StellarGraph`. Notice that `info()` is now reporting multiple node types, as well as information specific to each."
      ]
    },
    {
      "cell_type": "code",
      "execution_count": null,
      "metadata": {
        "id": "4SEa3u5wahpb",
        "outputId": "efc33634-ba80-4a1d-8c18-904ddf3d0d48",
        "colab": {
          "base_uri": "https://localhost:8080/"
        }
      },
      "outputs": [
        {
          "output_type": "stream",
          "name": "stdout",
          "text": [
            "StellarGraph: Undirected multigraph\n",
            " Nodes: 4, Edges: 5\n",
            "\n",
            " Node types:\n",
            "  bar: [3]\n",
            "    Features: float64 vector, length 2\n",
            "    Edge types: bar-default->bar, bar-default->foo\n",
            "  foo: [1]\n",
            "    Features: none\n",
            "    Edge types: foo-default->bar\n",
            "\n",
            " Edge types:\n",
            "    bar-default->foo: [3]\n",
            "        Weights: all 1 (default)\n",
            "        Features: none\n",
            "    bar-default->bar: [2]\n",
            "        Weights: all 1 (default)\n",
            "        Features: none\n"
          ]
        }
      ],
      "source": [
        "square_foo_and_bar = StellarGraph({\"foo\": square_foo, \"bar\": square_bar}, square_edges)\n",
        "print(square_foo_and_bar.info())"
      ]
    },
    {
      "cell_type": "markdown",
      "metadata": {
        "id": "HDBBtCJqahpb"
      },
      "source": [
        "Node IDs (the DataFrame index) needs to be unique across all types. For example, renaming the `a` corner to `b` like `square_foo_overlap` in the next cell, is not accepted and a `StellarGraph(...)` call will throw an error"
      ]
    },
    {
      "cell_type": "code",
      "execution_count": null,
      "metadata": {
        "id": "LjvBMUljahpb"
      },
      "outputs": [],
      "source": [
        "square_foo_overlap = IndexedArray(index=[\"b\"])"
      ]
    },
    {
      "cell_type": "code",
      "execution_count": null,
      "metadata": {
        "id": "Iw7cI8UHahpc"
      },
      "outputs": [],
      "source": [
        "# Uncomment to see the error\n",
        "# StellarGraph({\"foo\": square_foo_overlap, \"bar\": square_bar}, square_edges)"
      ]
    },
    {
      "cell_type": "markdown",
      "metadata": {
        "id": "llwOQ7zlahpc"
      },
      "source": [
        "If the node IDs aren't unique across types, one way to make them unique is to add a string prefix. You'll need to add the same prefix to the node IDs used in the edges too. Adding a prefix can be done by replacing the index:"
      ]
    },
    {
      "cell_type": "code",
      "execution_count": null,
      "metadata": {
        "id": "IDHLxywPahpc"
      },
      "outputs": [],
      "source": [
        "square_foo_overlap_prefix = IndexedArray(\n",
        "    square_foo_overlap.values, index=[f\"foo-{s}\" for s in square_foo_overlap.index]\n",
        ")"
      ]
    },
    {
      "cell_type": "code",
      "execution_count": null,
      "metadata": {
        "id": "UBvJFDmOahpc"
      },
      "outputs": [],
      "source": [
        "square_bar_prefix = IndexedArray(\n",
        "    square_bar.values, index=[f\"bar-{s}\" for s in square_bar.index]\n",
        ")"
      ]
    },
    {
      "cell_type": "markdown",
      "metadata": {
        "id": "5OdqbjdIahpc"
      },
      "source": [
        "### Feature tensors\n",
        "\n",
        "Nodes of different types can have features of completely different shapes, not just vectors of different lengths. For instance, suppose our `foo` node (`a`) has the multi-variate time series from above as a feature."
      ]
    },
    {
      "cell_type": "code",
      "execution_count": null,
      "metadata": {
        "id": "uQ7UATHLahpc",
        "outputId": "6b3cca0a-8aa0-4d72-b02c-d63b45a71e85",
        "colab": {
          "base_uri": "https://localhost:8080/"
        }
      },
      "outputs": [
        {
          "output_type": "execute_result",
          "data": {
            "text/plain": [
              "array([[[ 1. , -0.2],\n",
              "        [ 1. ,  0.1],\n",
              "        [ 0.9,  0.1]]])"
            ]
          },
          "metadata": {},
          "execution_count": 25
        }
      ],
      "source": [
        "foo_tensors = np.array([[[1.0, -0.2], [1.0, 0.1], [0.9, 0.1]]])\n",
        "foo_tensors"
      ]
    },
    {
      "cell_type": "code",
      "execution_count": null,
      "metadata": {
        "id": "GPrkmu_uahpd"
      },
      "outputs": [],
      "source": [
        "square_foo_tensors = IndexedArray(foo_tensors, index=[\"a\"])"
      ]
    },
    {
      "cell_type": "code",
      "execution_count": null,
      "metadata": {
        "id": "hLaEG1PEahpd",
        "outputId": "266c2315-85ac-4cf3-c141-af4fbea05899",
        "colab": {
          "base_uri": "https://localhost:8080/"
        }
      },
      "outputs": [
        {
          "output_type": "stream",
          "name": "stdout",
          "text": [
            "StellarGraph: Undirected multigraph\n",
            " Nodes: 4, Edges: 5\n",
            "\n",
            " Node types:\n",
            "  bar: [3]\n",
            "    Features: float64 vector, length 2\n",
            "    Edge types: bar-default->bar, bar-default->foo\n",
            "  foo: [1]\n",
            "    Features: float64 tensor, shape (3, 2)\n",
            "    Edge types: foo-default->bar\n",
            "\n",
            " Edge types:\n",
            "    bar-default->foo: [3]\n",
            "        Weights: all 1 (default)\n",
            "        Features: none\n",
            "    bar-default->bar: [2]\n",
            "        Weights: all 1 (default)\n",
            "        Features: none\n"
          ]
        }
      ],
      "source": [
        "square_foo_tensors_and_bar = StellarGraph(\n",
        "    {\"foo\": square_foo_tensors, \"bar\": square_bar}, square_edges\n",
        ")\n",
        "print(square_foo_tensors_and_bar.info())"
      ]
    },
    {
      "cell_type": "markdown",
      "metadata": {
        "id": "UK42c96Dahpd"
      },
      "source": [
        "We can now see that the `foo` node is listed as having a feature tensor, as desired."
      ]
    },
    {
      "cell_type": "markdown",
      "metadata": {
        "id": "lhDJZBfoahpd"
      },
      "source": [
        "## Conclusion\n",
        "\n",
        "You hopefully now know more about building node features for a `StellarGraph` in various configurations via NumPy arrays.\n",
        "\n",
        "For more details on graphs with directed, weighted or heterogeneous edges, see [the \"Loading data into StellarGraph from Pandas\" demo](loading-pandas.ipynb). All of the examples there work with `IndexedArray` instead of Pandas DataFrames for the node features.\n",
        "\n",
        "Revisit this document to use as a reminder, or [the documentation](https://stellargraph.readthedocs.io/en/stable/api.html#stellargraph.StellarGraph) for the `StellarGraph` class.\n",
        "\n",
        "Once you've loaded your data, you can start doing machine learning: a good place to start is the [demo of the GCN algorithm on the Cora dataset for node classification](../node-classification/gcn-node-classification.ipynb). Additionally, StellarGraph includes [many other demos of other algorithms, solving other tasks](../README.md)."
      ]
    },
    {
      "cell_type": "markdown",
      "metadata": {
        "nbsphinx": "hidden",
        "tags": [
          "CloudRunner"
        ],
        "id": "DvCrzyZVahpe"
      },
      "source": [
        "<table><tr><td>Run the latest release of this notebook:</td><td><a href=\"https://mybinder.org/v2/gh/stellargraph/stellargraph/master?urlpath=lab/tree/demos/basics/loading-numpy.ipynb\" alt=\"Open In Binder\" target=\"_parent\"><img src=\"https://mybinder.org/badge_logo.svg\"/></a></td><td><a href=\"https://colab.research.google.com/github/stellargraph/stellargraph/blob/master/demos/basics/loading-numpy.ipynb\" alt=\"Open In Colab\" target=\"_parent\"><img src=\"https://colab.research.google.com/assets/colab-badge.svg\"/></a></td></tr></table>"
      ]
    }
  ],
  "metadata": {
    "kernelspec": {
      "display_name": "Python 3",
      "language": "python",
      "name": "python3"
    },
    "language_info": {
      "codemirror_mode": {
        "name": "ipython",
        "version": 3
      },
      "file_extension": ".py",
      "mimetype": "text/x-python",
      "name": "python",
      "nbconvert_exporter": "python",
      "pygments_lexer": "ipython3",
      "version": "3.6.9"
    },
    "colab": {
      "name": "loading-numpy.ipynb",
      "provenance": [],
      "toc_visible": true,
      "include_colab_link": true
    }
  },
  "nbformat": 4,
  "nbformat_minor": 0
}