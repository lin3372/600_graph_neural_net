{
  "cells": [
    {
      "cell_type": "markdown",
      "metadata": {
        "id": "view-in-github",
        "colab_type": "text"
      },
      "source": [
        "<a href=\"https://colab.research.google.com/github/lin3372/600_graph_neural_net/blob/main/stellargraph/basics/loading_networkx.ipynb\" target=\"_parent\"><img src=\"https://colab.research.google.com/assets/colab-badge.svg\" alt=\"Open In Colab\"/></a>"
      ]
    },
    {
      "cell_type": "markdown",
      "metadata": {
        "id": "FknRsgDPaBAz"
      },
      "source": [
        "# Loading data into StellarGraph from NetworkX\n",
        "\n",
        "> This demo explains how to load data from NetworkX into a form that can be used by the StellarGraph library. [See all other demos](../README.md).\n",
        "\n",
        "* [github - stellargraph](https://github.com/stellargraph/stellargraph)\n",
        "* [github - loading-networkx.ipynb](https://github.com/stellargraph/stellargraph/blob/develop/demos/basics/loading-networkx.ipynb)\n"
      ]
    },
    {
      "cell_type": "markdown",
      "metadata": {
        "nbsphinx": "hidden",
        "tags": [
          "CloudRunner"
        ],
        "id": "OdwOUICtaBA3"
      },
      "source": [
        "<table><tr><td>Run the latest release of this notebook:</td><td><a href=\"https://mybinder.org/v2/gh/stellargraph/stellargraph/master?urlpath=lab/tree/demos/basics/loading-networkx.ipynb\" alt=\"Open In Binder\" target=\"_parent\"><img src=\"https://mybinder.org/badge_logo.svg\"/></a></td><td><a href=\"https://colab.research.google.com/github/stellargraph/stellargraph/blob/master/demos/basics/loading-networkx.ipynb\" alt=\"Open In Colab\" target=\"_parent\"><img src=\"https://colab.research.google.com/assets/colab-badge.svg\"/></a></td></tr></table>"
      ]
    },
    {
      "cell_type": "markdown",
      "metadata": {
        "id": "SHPfjih6aBA4"
      },
      "source": [
        "[The StellarGraph library](https://github.com/stellargraph/stellargraph) supports loading graph information from NetworkX graphs. [NetworkX](https://networkx.github.io) is a library for working with graphs that provides many convenient I/O functions, graph algorithms and other tools.\n",
        "\n",
        "If your data is naturally a NetworkX graph, this is a great way to load it. If your data does not *need* to be a NetworkX graph, [loading via another route](README.md) is likely to be faster and potentially more convenient.\n",
        "\n",
        "This notebook walks through loading several kinds of graphs.\n",
        "\n",
        "- homogeneous graph without features (a homogeneous graph is one with only one type of node and one type of edge)\n",
        "- homogeneous graph with features\n",
        "- homogeneous graph with edge weights\n",
        "- directed graphs (a graph is directed if edges have a \"start\" and \"end\" nodes, instead of just connecting two nodes)\n",
        "- heterogeneous graphs (more than one node type and/or more than one edge type) with and without node features or edge weights, this includes knowledge graphs\n",
        "\n",
        "> StellarGraph supports loading data from many sources with all sorts of data preprocessing, via [Pandas](https://pandas.pydata.org) DataFrames, [NumPy](https://www.numpy.org) arrays, [Neo4j](https://neo4j.com) and [NetworkX](https://networkx.github.io) graphs. See [all loading demos](README.md) for more details.\n",
        "\n",
        "The [documentation](https://stellargraph.readthedocs.io/en/stable/api.html#stellargraph.StellarGraph.from_networkx) for the `StellarGraph.from_networkx` static method includes a compressed reminder of everything discussed in this file, as well as explanations of all of the parameters.\n",
        "\n",
        "The `StellarGraph` class is available at the top level of the `stellargraph` library:"
      ]
    },
    {
      "cell_type": "code",
      "execution_count": null,
      "metadata": {
        "nbsphinx": "hidden",
        "tags": [
          "CloudRunner"
        ],
        "id": "mvVLTHhSaBA5",
        "outputId": "a5ea87e9-af05-4767-c184-6801361697c0",
        "colab": {
          "base_uri": "https://localhost:8080/"
        }
      },
      "outputs": [
        {
          "output_type": "stream",
          "name": "stdout",
          "text": [
            "\u001b[K     |████████████████████████████████| 435 kB 4.0 MB/s \n",
            "\u001b[K     |████████████████████████████████| 482 kB 32.7 MB/s \n",
            "\u001b[K     |████████████████████████████████| 41 kB 473 kB/s \n",
            "\u001b[?25h  Building wheel for mplleaflet (setup.py) ... \u001b[?25l\u001b[?25hdone\n"
          ]
        }
      ],
      "source": [
        "# install StellarGraph if running on Google Colab\n",
        "import sys\n",
        "if 'google.colab' in sys.modules:\n",
        "  %pip install -q stellargraph[demos]==1.2.1"
      ]
    },
    {
      "cell_type": "code",
      "execution_count": null,
      "metadata": {
        "nbsphinx": "hidden",
        "tags": [
          "VersionCheck"
        ],
        "id": "aPTjkJm5aBA7"
      },
      "outputs": [],
      "source": [
        "# verify that we're using the correct version of StellarGraph for this notebook\n",
        "import stellargraph as sg\n",
        "\n",
        "try:\n",
        "    sg.utils.validate_notebook_version(\"1.2.1\")\n",
        "except AttributeError:\n",
        "    raise ValueError(\n",
        "        f\"This notebook requires StellarGraph version 1.2.1, but a different version {sg.__version__} is installed.  Please see <https://github.com/stellargraph/stellargraph/issues/1172>.\"\n",
        "    ) from None"
      ]
    },
    {
      "cell_type": "code",
      "execution_count": null,
      "metadata": {
        "id": "tNYGPYriaBA7"
      },
      "outputs": [],
      "source": [
        "from stellargraph import StellarGraph"
      ]
    },
    {
      "cell_type": "markdown",
      "metadata": {
        "id": "yYYRuo4zaBA8"
      },
      "source": [
        "## Loading from many graph formats, via NetworkX\n",
        "\n",
        "A NetworkX graph can be created in many ways, including manually via `add_...` methods ([docs](https://networkx.github.io/documentation/stable/tutorial.html#creating-a-graph)), and by reading from files in many formats ([docs](https://networkx.github.io/documentation/stable/reference/readwrite/index.html)). In this tutorial, we'll only use the first one."
      ]
    },
    {
      "cell_type": "code",
      "execution_count": null,
      "metadata": {
        "id": "XtXsTvPPaBA9"
      },
      "outputs": [],
      "source": [
        "import networkx as nx"
      ]
    },
    {
      "cell_type": "markdown",
      "metadata": {
        "id": "I7cJyW-OaBA9"
      },
      "source": [
        "## Homogeneous graph without features\n",
        "\n",
        "To start with, we'll start with a homogeneous graph without any node features. This means the graph consists of only nodes and edges without any information other than a unique identifier.\n",
        "\n",
        "Let's use a graph representing a square with a diagonal:\n",
        "\n",
        "```\n",
        "a -- b\n",
        "| \\  |\n",
        "|  \\ |\n",
        "d -- c\n",
        "```"
      ]
    },
    {
      "cell_type": "code",
      "execution_count": null,
      "metadata": {
        "id": "saoiwa44aBA-"
      },
      "outputs": [],
      "source": [
        "g = nx.Graph()\n",
        "g.add_edge(\"a\", \"b\")\n",
        "g.add_edge(\"b\", \"c\")\n",
        "g.add_edge(\"c\", \"d\")\n",
        "g.add_edge(\"d\", \"a\")\n",
        "# diagonal\n",
        "g.add_edge(\"a\", \"c\")"
      ]
    },
    {
      "cell_type": "markdown",
      "metadata": {
        "id": "l6ShSiZcaBA_"
      },
      "source": [
        "The basic form of constructing a `StellarGraph` from a NetworkX graphs is... just passing in that graph! "
      ]
    },
    {
      "cell_type": "code",
      "execution_count": null,
      "metadata": {
        "id": "YAHdcBBKaBA_"
      },
      "outputs": [],
      "source": [
        "square = StellarGraph.from_networkx(g)"
      ]
    },
    {
      "cell_type": "markdown",
      "metadata": {
        "id": "p9Rq5QWFaBA_"
      },
      "source": [
        "The `info` method ([docs](https://stellargraph.readthedocs.io/en/stable/api.html#stellargraph.StellarGraph.info)) gives a high-level summary of a `StellarGraph`:"
      ]
    },
    {
      "cell_type": "code",
      "execution_count": null,
      "metadata": {
        "id": "fs6Bgp_SaBBA",
        "outputId": "6b733f59-2cbc-4a08-b594-ddf419c459aa",
        "colab": {
          "base_uri": "https://localhost:8080/"
        }
      },
      "outputs": [
        {
          "output_type": "stream",
          "name": "stdout",
          "text": [
            "StellarGraph: Undirected multigraph\n",
            " Nodes: 4, Edges: 5\n",
            "\n",
            " Node types:\n",
            "  default: [4]\n",
            "    Features: none\n",
            "    Edge types: default-default->default\n",
            "\n",
            " Edge types:\n",
            "    default-default->default: [5]\n",
            "        Weights: all 1 (default)\n",
            "        Features: none\n"
          ]
        }
      ],
      "source": [
        "print(square.info())"
      ]
    },
    {
      "cell_type": "markdown",
      "metadata": {
        "id": "G-SLdtTraBBB"
      },
      "source": [
        "On this square, it tells us that there's 4 nodes of type `default` (a homogeneous graph still has node and edge types, but they default to `default`), with no features, and one type of edge that touches it. It also tells us that there's 5 edges of type `default` that go between nodes of type `default`. This matches what we expect: it's a graph with 4 nodes and 5 edges and one type of each.\n",
        "\n",
        "Similar to constructing via Pandas, the default node type and edge types can be set using the `node_type_default` and `edge_type_default` parameters to `StellarGraph.from_networkx(...)`:"
      ]
    },
    {
      "cell_type": "code",
      "execution_count": null,
      "metadata": {
        "id": "F2eor9sNaBBB",
        "outputId": "758a55a3-2b6e-4b10-c19a-1830d2354d7c",
        "colab": {
          "base_uri": "https://localhost:8080/"
        }
      },
      "outputs": [
        {
          "output_type": "stream",
          "name": "stdout",
          "text": [
            "StellarGraph: Undirected multigraph\n",
            " Nodes: 4, Edges: 5\n",
            "\n",
            " Node types:\n",
            "  paper: [4]\n",
            "    Features: none\n",
            "    Edge types: paper-cites->paper\n",
            "\n",
            " Edge types:\n",
            "    paper-cites->paper: [5]\n",
            "        Weights: all 1 (default)\n",
            "        Features: none\n"
          ]
        }
      ],
      "source": [
        "square_named = StellarGraph.from_networkx(\n",
        "    g, node_type_default=\"paper\", edge_type_default=\"cites\"\n",
        ")\n",
        "print(square_named.info())"
      ]
    },
    {
      "cell_type": "markdown",
      "metadata": {
        "id": "U473x-EaaBBB"
      },
      "source": [
        "## Homogeneous graph with features\n",
        "\n",
        "For many real-world problems, we have more than just graph structure: we have information about the nodes and edges. For instance, we might have a graph of academic papers (nodes) and how they cite each other (edges): we might have information about the nodes such as the authors and the publication year, and even the abstract or full paper contents. If we're doing a machine learning task, it can be useful to feed this information into models. The `StellarGraph.from_networkx` class supports this in two ways:\n",
        "\n",
        "1. loading from an attribute, which stores a numeric sequence\n",
        "2. using a Pandas DataFrame (this is the same as the `StellarGraph(...)` constructor from [the \"loading from Pandas\" tutorial](loading-pandas.ipynb))\n",
        "\n",
        "Let's continue using the same graph.\n",
        "\n",
        "### 1. Loading from an attribute\n",
        "\n",
        "If the nodes of our graph comes or can be augmented with, a feature attribute that contains a numeric sequence (such as a list or a NumPy array), `StellarGraph.from_networkx` can load these to create node features.\n",
        "\n",
        "The feature attributes can be assigned in many ways, such as via `some_graph.nodes[node_id][feature_name] = ...` or by iterating over the nodes. We'll do the second one here:"
      ]
    },
    {
      "cell_type": "code",
      "execution_count": null,
      "metadata": {
        "id": "tT44rh26aBBC",
        "outputId": "938d10f0-962f-4ee0-ba38-9999142f297e",
        "colab": {
          "base_uri": "https://localhost:8080/"
        }
      },
      "outputs": [
        {
          "output_type": "execute_result",
          "data": {
            "text/plain": [
              "({'feature': [97, 1]}, {'feature': [99, 1]})"
            ]
          },
          "metadata": {},
          "execution_count": 9
        }
      ],
      "source": [
        "g_feature_attr = g.copy()\n",
        "\n",
        "\n",
        "def compute_features(node_id):\n",
        "    # in general this could compute something based on other features, but for this example,\n",
        "    # we don't have any other features, so we'll just do something basic with the node_id\n",
        "    return [ord(node_id), len(node_id)]\n",
        "\n",
        "\n",
        "for node_id, node_data in g_feature_attr.nodes(data=True):\n",
        "    node_data[\"feature\"] = compute_features(node_id)\n",
        "\n",
        "# let's see what some of them look like:\n",
        "g_feature_attr.nodes[\"a\"], g_feature_attr.nodes[\"c\"]"
      ]
    },
    {
      "cell_type": "markdown",
      "metadata": {
        "id": "HLQzF80IaBBC"
      },
      "source": [
        "The `node_features=...` parameter let's us tell `from_networkx` how to find the features. If it's a string, it looks for an attribute by that name in each node of the graph."
      ]
    },
    {
      "cell_type": "code",
      "execution_count": null,
      "metadata": {
        "id": "p3rv73NcaBBC",
        "outputId": "0f77d866-4a74-465f-e613-ca5416bc3fee",
        "colab": {
          "base_uri": "https://localhost:8080/"
        }
      },
      "outputs": [
        {
          "output_type": "stream",
          "name": "stdout",
          "text": [
            "StellarGraph: Undirected multigraph\n",
            " Nodes: 4, Edges: 5\n",
            "\n",
            " Node types:\n",
            "  default: [4]\n",
            "    Features: float32 vector, length 2\n",
            "    Edge types: default-default->default\n",
            "\n",
            " Edge types:\n",
            "    default-default->default: [5]\n",
            "        Weights: all 1 (default)\n",
            "        Features: none\n"
          ]
        }
      ],
      "source": [
        "square_feature_attr = StellarGraph.from_networkx(g_feature_attr, node_features=\"feature\")\n",
        "print(square_feature_attr.info())"
      ]
    },
    {
      "cell_type": "markdown",
      "metadata": {
        "id": "wLYWRhOZaBBD"
      },
      "source": [
        "Notice how `info` now says that nodes of type `default` (all of them) have a feature vector of length 2. Success!\n",
        "\n",
        "In a homogeneous graph like this, the features for every node need to have the same length."
      ]
    },
    {
      "cell_type": "markdown",
      "metadata": {
        "id": "Daa1F3CJaBBD"
      },
      "source": [
        "### 2. Using a Pandas DataFrame\n",
        "\n",
        "Another option is to have a Pandas DataFrame of features. This is often more efficient, if the data comes separately to the graph structure, or if significant preprocessing is required before creating the `StellarGraph`.\n",
        "\n",
        "The structure of the dataframe is the same as the nodes DataFrame used for the main `StellarGraph(...)` constructor ([docs](https://stellargraph.readthedocs.io/en/stable/api.html#stellargraph.StellarGraph)), which is covered in more detail in [the \"loading from Pandas\" tutorial](loading-pandas.ipynb). That tutorial includes examples of loading the DataFrame from a file. In this tutorial, we will just work with DataFrames that have already been loaded."
      ]
    },
    {
      "cell_type": "code",
      "execution_count": null,
      "metadata": {
        "id": "sjANT1zdaBBD",
        "outputId": "0ce0ea9b-cd05-419d-cc8e-e65478c06623",
        "colab": {
          "base_uri": "https://localhost:8080/",
          "height": 173
        }
      },
      "outputs": [
        {
          "output_type": "execute_result",
          "data": {
            "text/html": [
              "\n",
              "  <div id=\"df-00b732ad-fda5-4d82-afc5-b766f103b7ce\">\n",
              "    <div class=\"colab-df-container\">\n",
              "      <div>\n",
              "<style scoped>\n",
              "    .dataframe tbody tr th:only-of-type {\n",
              "        vertical-align: middle;\n",
              "    }\n",
              "\n",
              "    .dataframe tbody tr th {\n",
              "        vertical-align: top;\n",
              "    }\n",
              "\n",
              "    .dataframe thead th {\n",
              "        text-align: right;\n",
              "    }\n",
              "</style>\n",
              "<table border=\"1\" class=\"dataframe\">\n",
              "  <thead>\n",
              "    <tr style=\"text-align: right;\">\n",
              "      <th></th>\n",
              "      <th>x</th>\n",
              "      <th>y</th>\n",
              "    </tr>\n",
              "  </thead>\n",
              "  <tbody>\n",
              "    <tr>\n",
              "      <th>a</th>\n",
              "      <td>1</td>\n",
              "      <td>-0.2</td>\n",
              "    </tr>\n",
              "    <tr>\n",
              "      <th>b</th>\n",
              "      <td>2</td>\n",
              "      <td>0.3</td>\n",
              "    </tr>\n",
              "    <tr>\n",
              "      <th>c</th>\n",
              "      <td>3</td>\n",
              "      <td>0.0</td>\n",
              "    </tr>\n",
              "    <tr>\n",
              "      <th>d</th>\n",
              "      <td>4</td>\n",
              "      <td>-0.5</td>\n",
              "    </tr>\n",
              "  </tbody>\n",
              "</table>\n",
              "</div>\n",
              "      <button class=\"colab-df-convert\" onclick=\"convertToInteractive('df-00b732ad-fda5-4d82-afc5-b766f103b7ce')\"\n",
              "              title=\"Convert this dataframe to an interactive table.\"\n",
              "              style=\"display:none;\">\n",
              "        \n",
              "  <svg xmlns=\"http://www.w3.org/2000/svg\" height=\"24px\"viewBox=\"0 0 24 24\"\n",
              "       width=\"24px\">\n",
              "    <path d=\"M0 0h24v24H0V0z\" fill=\"none\"/>\n",
              "    <path d=\"M18.56 5.44l.94 2.06.94-2.06 2.06-.94-2.06-.94-.94-2.06-.94 2.06-2.06.94zm-11 1L8.5 8.5l.94-2.06 2.06-.94-2.06-.94L8.5 2.5l-.94 2.06-2.06.94zm10 10l.94 2.06.94-2.06 2.06-.94-2.06-.94-.94-2.06-.94 2.06-2.06.94z\"/><path d=\"M17.41 7.96l-1.37-1.37c-.4-.4-.92-.59-1.43-.59-.52 0-1.04.2-1.43.59L10.3 9.45l-7.72 7.72c-.78.78-.78 2.05 0 2.83L4 21.41c.39.39.9.59 1.41.59.51 0 1.02-.2 1.41-.59l7.78-7.78 2.81-2.81c.8-.78.8-2.07 0-2.86zM5.41 20L4 18.59l7.72-7.72 1.47 1.35L5.41 20z\"/>\n",
              "  </svg>\n",
              "      </button>\n",
              "      \n",
              "  <style>\n",
              "    .colab-df-container {\n",
              "      display:flex;\n",
              "      flex-wrap:wrap;\n",
              "      gap: 12px;\n",
              "    }\n",
              "\n",
              "    .colab-df-convert {\n",
              "      background-color: #E8F0FE;\n",
              "      border: none;\n",
              "      border-radius: 50%;\n",
              "      cursor: pointer;\n",
              "      display: none;\n",
              "      fill: #1967D2;\n",
              "      height: 32px;\n",
              "      padding: 0 0 0 0;\n",
              "      width: 32px;\n",
              "    }\n",
              "\n",
              "    .colab-df-convert:hover {\n",
              "      background-color: #E2EBFA;\n",
              "      box-shadow: 0px 1px 2px rgba(60, 64, 67, 0.3), 0px 1px 3px 1px rgba(60, 64, 67, 0.15);\n",
              "      fill: #174EA6;\n",
              "    }\n",
              "\n",
              "    [theme=dark] .colab-df-convert {\n",
              "      background-color: #3B4455;\n",
              "      fill: #D2E3FC;\n",
              "    }\n",
              "\n",
              "    [theme=dark] .colab-df-convert:hover {\n",
              "      background-color: #434B5C;\n",
              "      box-shadow: 0px 1px 3px 1px rgba(0, 0, 0, 0.15);\n",
              "      filter: drop-shadow(0px 1px 2px rgba(0, 0, 0, 0.3));\n",
              "      fill: #FFFFFF;\n",
              "    }\n",
              "  </style>\n",
              "\n",
              "      <script>\n",
              "        const buttonEl =\n",
              "          document.querySelector('#df-00b732ad-fda5-4d82-afc5-b766f103b7ce button.colab-df-convert');\n",
              "        buttonEl.style.display =\n",
              "          google.colab.kernel.accessAllowed ? 'block' : 'none';\n",
              "\n",
              "        async function convertToInteractive(key) {\n",
              "          const element = document.querySelector('#df-00b732ad-fda5-4d82-afc5-b766f103b7ce');\n",
              "          const dataTable =\n",
              "            await google.colab.kernel.invokeFunction('convertToInteractive',\n",
              "                                                     [key], {});\n",
              "          if (!dataTable) return;\n",
              "\n",
              "          const docLinkHtml = 'Like what you see? Visit the ' +\n",
              "            '<a target=\"_blank\" href=https://colab.research.google.com/notebooks/data_table.ipynb>data table notebook</a>'\n",
              "            + ' to learn more about interactive tables.';\n",
              "          element.innerHTML = '';\n",
              "          dataTable['output_type'] = 'display_data';\n",
              "          await google.colab.output.renderOutput(dataTable, element);\n",
              "          const docLink = document.createElement('div');\n",
              "          docLink.innerHTML = docLinkHtml;\n",
              "          element.appendChild(docLink);\n",
              "        }\n",
              "      </script>\n",
              "    </div>\n",
              "  </div>\n",
              "  "
            ],
            "text/plain": [
              "   x    y\n",
              "a  1 -0.2\n",
              "b  2  0.3\n",
              "c  3  0.0\n",
              "d  4 -0.5"
            ]
          },
          "metadata": {},
          "execution_count": 11
        }
      ],
      "source": [
        "import pandas as pd\n",
        "\n",
        "features = pd.DataFrame(\n",
        "    {\"x\": [1, 2, 3, 4], \"y\": [-0.2, 0.3, 0.0, -0.5]}, index=[\"a\", \"b\", \"c\", \"d\"]\n",
        ")\n",
        "features"
      ]
    },
    {
      "cell_type": "markdown",
      "metadata": {
        "id": "UCzFczrwaBBD"
      },
      "source": [
        "Notice how the IDs we used for the nodes in the NetworkX graph are the DataFrame's index. The index is how the features are connected to each node, and the nodes in the graph and nodes in the DataFrame need to match exactly.\n",
        "\n",
        "With a DataFrame in the appropriate format, we can pass this to the `node_features=...` parameter too."
      ]
    },
    {
      "cell_type": "code",
      "execution_count": null,
      "metadata": {
        "id": "HNU6Ri9VaBBE",
        "outputId": "390fe9ef-9a13-41c8-c703-fa9fb2e44dee",
        "colab": {
          "base_uri": "https://localhost:8080/"
        }
      },
      "outputs": [
        {
          "output_type": "stream",
          "name": "stdout",
          "text": [
            "StellarGraph: Undirected multigraph\n",
            " Nodes: 4, Edges: 5\n",
            "\n",
            " Node types:\n",
            "  default: [4]\n",
            "    Features: float32 vector, length 2\n",
            "    Edge types: default-default->default\n",
            "\n",
            " Edge types:\n",
            "    default-default->default: [5]\n",
            "        Weights: all 1 (default)\n",
            "        Features: none\n"
          ]
        }
      ],
      "source": [
        "square_feature_dataframe = StellarGraph.from_networkx(\n",
        "    g_feature_attr, node_features=features\n",
        ")\n",
        "print(square_feature_dataframe.info())"
      ]
    },
    {
      "cell_type": "markdown",
      "metadata": {
        "id": "SRtiUyP0aBBE"
      },
      "source": [
        "Like with the attribute, `info` now says that our nodes have a feature vector of length 2.\n",
        "\n",
        "We can use Pandas to do all sorts of feature preprocessing, like the column filtering and one-hot encoding done in the other tutorial."
      ]
    },
    {
      "cell_type": "markdown",
      "metadata": {
        "id": "dnijMdTNaBBE"
      },
      "source": [
        "## Homogeneous graph with edge weights\n",
        "\n",
        "Some algorithms can understand edge weights, which can be used as a measure of the strength of the connection, or a measure of distance between nodes. A `StellarGraph` instance can have weighted edges, by specifying a `weight` attribute on the edges."
      ]
    },
    {
      "cell_type": "code",
      "execution_count": null,
      "metadata": {
        "id": "pDBEfma7aBBE",
        "outputId": "b73fe543-3585-4063-c78a-57c8f21cd221",
        "colab": {
          "base_uri": "https://localhost:8080/"
        }
      },
      "outputs": [
        {
          "output_type": "stream",
          "name": "stdout",
          "text": [
            "StellarGraph: Undirected multigraph\n",
            " Nodes: 4, Edges: 5\n",
            "\n",
            " Node types:\n",
            "  default: [4]\n",
            "    Features: none\n",
            "    Edge types: default-default->default\n",
            "\n",
            " Edge types:\n",
            "    default-default->default: [5]\n",
            "        Weights: range=[1, 5], mean=3, std=1.58114\n",
            "        Features: none\n"
          ]
        }
      ],
      "source": [
        "g_weighted = nx.Graph()\n",
        "g_weighted.add_edge(\"a\", \"b\", weight=1.0)\n",
        "g_weighted.add_edge(\"b\", \"c\", weight=2.0)\n",
        "g_weighted.add_edge(\"c\", \"d\", weight=3.0)\n",
        "g_weighted.add_edge(\"d\", \"a\", weight=4.0)\n",
        "# diagonal\n",
        "g_weighted.add_edge(\"a\", \"c\", weight=5.0)\n",
        "\n",
        "square_weighted = StellarGraph.from_networkx(g_weighted)\n",
        "print(square_weighted.info())"
      ]
    },
    {
      "cell_type": "markdown",
      "metadata": {
        "id": "NL74ACAgaBBE"
      },
      "source": [
        "Notice the output of `info` now shows additional statistics about edge weights.\n",
        "\n",
        "The name of the attribute can be customised using the `edge_weight_attr` parameter."
      ]
    },
    {
      "cell_type": "code",
      "execution_count": null,
      "metadata": {
        "id": "-ZjQewj8aBBF",
        "outputId": "977a94bc-102b-4ce5-b7e4-d64c3cc7f88c",
        "colab": {
          "base_uri": "https://localhost:8080/"
        }
      },
      "outputs": [
        {
          "output_type": "stream",
          "name": "stdout",
          "text": [
            "StellarGraph: Undirected multigraph\n",
            " Nodes: 4, Edges: 5\n",
            "\n",
            " Node types:\n",
            "  default: [4]\n",
            "    Features: none\n",
            "    Edge types: default-default->default\n",
            "\n",
            " Edge types:\n",
            "    default-default->default: [5]\n",
            "        Weights: range=[1, 5], mean=3, std=1.58114\n",
            "        Features: none\n"
          ]
        }
      ],
      "source": [
        "g_weighted_other = nx.Graph()\n",
        "g_weighted_other.add_edge(\"a\", \"b\", distance=1.0)\n",
        "g_weighted_other.add_edge(\"b\", \"c\", distance=2.0)\n",
        "g_weighted_other.add_edge(\"c\", \"d\", distance=3.0)\n",
        "g_weighted_other.add_edge(\"d\", \"a\", distance=4.0)\n",
        "# diagonal\n",
        "g_weighted_other.add_edge(\"a\", \"c\", distance=5.0)\n",
        "\n",
        "square_weighted_other = StellarGraph.from_networkx(\n",
        "    g_weighted, edge_weight_attr=\"distance\"\n",
        ")\n",
        "print(square_weighted.info())"
      ]
    },
    {
      "cell_type": "markdown",
      "metadata": {
        "id": "N8eAaeXRaBBF"
      },
      "source": [
        "## Directed graphs\n",
        "\n",
        "Some graphs have edge directions, where going from source to target has a different meaning to going from target to source. NetworkX models this using the `DiGraph` and `MultiDiGraph` classes, and `StellarGraph.from_networkx` automatically creates a directed graph if they are passed.\n",
        "\n",
        "All of the other options like node features and edge weights work the same as undirected graphs."
      ]
    },
    {
      "cell_type": "code",
      "execution_count": null,
      "metadata": {
        "id": "FI012TBWaBBF",
        "outputId": "30c285ee-74ca-4810-bcb5-cdde609274e3",
        "colab": {
          "base_uri": "https://localhost:8080/"
        }
      },
      "outputs": [
        {
          "output_type": "stream",
          "name": "stdout",
          "text": [
            "StellarDiGraph: Directed multigraph\n",
            " Nodes: 4, Edges: 5\n",
            "\n",
            " Node types:\n",
            "  default: [4]\n",
            "    Features: none\n",
            "    Edge types: default-default->default\n",
            "\n",
            " Edge types:\n",
            "    default-default->default: [5]\n",
            "        Weights: all 1 (default)\n",
            "        Features: none\n"
          ]
        }
      ],
      "source": [
        "g_directed = nx.DiGraph()\n",
        "g_directed.add_edge(\"a\", \"b\")\n",
        "g_directed.add_edge(\"b\", \"c\")\n",
        "g_directed.add_edge(\"c\", \"d\")\n",
        "g_directed.add_edge(\"d\", \"a\")\n",
        "# diagonal\n",
        "g_directed.add_edge(\"a\", \"c\")\n",
        "\n",
        "square_directed = StellarGraph.from_networkx(g_directed)\n",
        "print(square_directed.info())"
      ]
    },
    {
      "cell_type": "markdown",
      "metadata": {
        "id": "VHQ07zxqaBBF"
      },
      "source": [
        "## Heterogeneous graphs\n",
        "\n",
        "Some graphs have multiple types of nodes and multiple types of edges.\n",
        "\n",
        "`StellarGraph` supports all forms of heterogeneous graphs, including knowledge graphs.\n",
        "\n",
        "The types of nodes and edges in a heterogeneous graph created using `StellarGraph.from_networkx` are read from a `label` attribute by default. \n",
        "\n",
        "### Multiple node types\n",
        "\n",
        "Suppose `a` is of type `foo`, and `b`, `c` and `d` are of type `bar`. We can set the `label` attribute on each node appropriate using the `nx.set_node_attributes` function ([docs](https://networkx.github.io/documentation/stable/reference/generated/networkx.classes.function.set_node_attributes.html))."
      ]
    },
    {
      "cell_type": "code",
      "execution_count": null,
      "metadata": {
        "id": "dQXiWrJoaBBG",
        "outputId": "bb1ea684-3c42-478b-cc28-d4bbf611167c",
        "colab": {
          "base_uri": "https://localhost:8080/"
        }
      },
      "outputs": [
        {
          "output_type": "stream",
          "name": "stdout",
          "text": [
            "StellarGraph: Undirected multigraph\n",
            " Nodes: 4, Edges: 5\n",
            "\n",
            " Node types:\n",
            "  bar: [3]\n",
            "    Features: none\n",
            "    Edge types: bar-default->bar, bar-default->foo\n",
            "  foo: [1]\n",
            "    Features: none\n",
            "    Edge types: foo-default->bar\n",
            "\n",
            " Edge types:\n",
            "    bar-default->foo: [3]\n",
            "        Weights: all 1 (default)\n",
            "        Features: none\n",
            "    bar-default->bar: [2]\n",
            "        Weights: all 1 (default)\n",
            "        Features: none\n"
          ]
        }
      ],
      "source": [
        "g_foo_bar = g.copy()\n",
        "nx.set_node_attributes(\n",
        "    g_foo_bar, {\"a\": \"foo\", \"b\": \"bar\", \"c\": \"bar\", \"d\": \"bar\"}, \"label\"\n",
        ")\n",
        "\n",
        "square_foo_bar = StellarGraph.from_networkx(g_foo_bar)\n",
        "print(square_foo_bar.info())"
      ]
    },
    {
      "cell_type": "markdown",
      "metadata": {
        "id": "WZo2hvUMaBBG"
      },
      "source": [
        "If the `label` attribute doesn't exist, the `node_type_default` value is used."
      ]
    },
    {
      "cell_type": "code",
      "execution_count": null,
      "metadata": {
        "id": "iE2f34BVaBBG",
        "outputId": "c4fd3752-9d89-451a-8926-5b2999a6222e",
        "colab": {
          "base_uri": "https://localhost:8080/"
        }
      },
      "outputs": [
        {
          "output_type": "stream",
          "name": "stdout",
          "text": [
            "StellarGraph: Undirected multigraph\n",
            " Nodes: 4, Edges: 5\n",
            "\n",
            " Node types:\n",
            "  bar: [3]\n",
            "    Features: none\n",
            "    Edge types: bar-default->bar, bar-default->foo\n",
            "  foo: [1]\n",
            "    Features: none\n",
            "    Edge types: foo-default->bar\n",
            "\n",
            " Edge types:\n",
            "    bar-default->foo: [3]\n",
            "        Weights: all 1 (default)\n",
            "        Features: none\n",
            "    bar-default->bar: [2]\n",
            "        Weights: all 1 (default)\n",
            "        Features: none\n"
          ]
        }
      ],
      "source": [
        "g_foo = g.copy()\n",
        "# only 'a' has a label attribute\n",
        "g_foo.nodes[\"a\"][\"label\"] = \"foo\"\n",
        "\n",
        "square_foo_bar_default = StellarGraph.from_networkx(g_foo, node_type_default=\"bar\")\n",
        "print(square_foo_bar_default.info())"
      ]
    },
    {
      "cell_type": "markdown",
      "metadata": {
        "id": "DAwqqU3maBBG"
      },
      "source": [
        "The attribute used to compute the node or edge type can be customised via the `node_type_attr` parameter. For instance, we can use the `type` attribute instead of the `label` one:"
      ]
    },
    {
      "cell_type": "code",
      "execution_count": null,
      "metadata": {
        "id": "5ilf4AtWaBBH",
        "outputId": "2a3f43ec-758c-4d89-dda7-4aafde43d771",
        "colab": {
          "base_uri": "https://localhost:8080/"
        }
      },
      "outputs": [
        {
          "output_type": "stream",
          "name": "stdout",
          "text": [
            "StellarGraph: Undirected multigraph\n",
            " Nodes: 4, Edges: 5\n",
            "\n",
            " Node types:\n",
            "  bar: [4]\n",
            "    Features: none\n",
            "    Edge types: bar-default->bar\n",
            "\n",
            " Edge types:\n",
            "    bar-default->bar: [5]\n",
            "        Weights: all 1 (default)\n",
            "        Features: none\n"
          ]
        }
      ],
      "source": [
        "g_foo_other = g.copy()\n",
        "# only 'a' has a type attribute\n",
        "g_foo_other.nodes[\"a\"][\"type\"] = \"foo\"\n",
        "\n",
        "square_foo_bar_other = StellarGraph.from_networkx(\n",
        "    g_foo, node_type_default=\"bar\", node_type_attr=\"type\"\n",
        ")\n",
        "print(square_foo_bar_other.info())"
      ]
    },
    {
      "cell_type": "markdown",
      "metadata": {
        "id": "m4HQzVceaBBH"
      },
      "source": [
        "If we have features for the nodes, the features can be stored in the nodes under a features attribute. The name of the attribute has to be the same for all types, but the shape or size of the attribute does not."
      ]
    },
    {
      "cell_type": "code",
      "execution_count": null,
      "metadata": {
        "id": "0VpnqNGYaBBH"
      },
      "outputs": [],
      "source": [
        "g_foo_bar_attr = g_foo_bar.copy()\n",
        "nx.set_node_attributes(\n",
        "    g_foo_bar_attr,\n",
        "    {\"a\": [], \"b\": [0.4, 100], \"c\": [0.1, 200], \"d\": [0.9, 300]},\n",
        "    \"feature\",\n",
        ")"
      ]
    },
    {
      "cell_type": "code",
      "execution_count": null,
      "metadata": {
        "id": "iOuXKYn3aBBH",
        "outputId": "19580bdd-5e02-4809-bff6-5120e07412cf",
        "colab": {
          "base_uri": "https://localhost:8080/"
        }
      },
      "outputs": [
        {
          "output_type": "stream",
          "name": "stdout",
          "text": [
            "StellarGraph: Undirected multigraph\n",
            " Nodes: 4, Edges: 5\n",
            "\n",
            " Node types:\n",
            "  bar: [3]\n",
            "    Features: float32 vector, length 2\n",
            "    Edge types: bar-default->bar, bar-default->foo\n",
            "  foo: [1]\n",
            "    Features: none\n",
            "    Edge types: foo-default->bar\n",
            "\n",
            " Edge types:\n",
            "    bar-default->foo: [3]\n",
            "        Weights: all 1 (default)\n",
            "        Features: none\n",
            "    bar-default->bar: [2]\n",
            "        Weights: all 1 (default)\n",
            "        Features: none\n"
          ]
        }
      ],
      "source": [
        "square_foo_bar_features_attr = StellarGraph.from_networkx(\n",
        "    g_foo_bar_attr, node_features=\"feature\"\n",
        ")\n",
        "print(square_foo_bar_features_attr.info())"
      ]
    },
    {
      "cell_type": "markdown",
      "metadata": {
        "id": "XbDMQJg1aBBH"
      },
      "source": [
        "Notice how the nodes of type `foo` (`a`) have no features, but the nodes of type `bar` (all others) have a vector of length 2.\n",
        "\n",
        "Alternatively, we can use Pandas DataFrames, specifying the `node_features=...` parameter as a dictionary mapping a node type to a DataFrame of features for nodes of that type. The dictionary only needs to include node types that have features."
      ]
    },
    {
      "cell_type": "code",
      "execution_count": null,
      "metadata": {
        "id": "lAsd57ZAaBBI",
        "outputId": "e34fe0f3-9335-485f-faf6-7562fc4b88ea",
        "colab": {
          "base_uri": "https://localhost:8080/",
          "height": 142
        }
      },
      "outputs": [
        {
          "output_type": "execute_result",
          "data": {
            "text/html": [
              "\n",
              "  <div id=\"df-f9934273-7ec8-46e8-87f9-82bfd13f650c\">\n",
              "    <div class=\"colab-df-container\">\n",
              "      <div>\n",
              "<style scoped>\n",
              "    .dataframe tbody tr th:only-of-type {\n",
              "        vertical-align: middle;\n",
              "    }\n",
              "\n",
              "    .dataframe tbody tr th {\n",
              "        vertical-align: top;\n",
              "    }\n",
              "\n",
              "    .dataframe thead th {\n",
              "        text-align: right;\n",
              "    }\n",
              "</style>\n",
              "<table border=\"1\" class=\"dataframe\">\n",
              "  <thead>\n",
              "    <tr style=\"text-align: right;\">\n",
              "      <th></th>\n",
              "      <th>y</th>\n",
              "      <th>z</th>\n",
              "    </tr>\n",
              "  </thead>\n",
              "  <tbody>\n",
              "    <tr>\n",
              "      <th>b</th>\n",
              "      <td>0.4</td>\n",
              "      <td>100</td>\n",
              "    </tr>\n",
              "    <tr>\n",
              "      <th>c</th>\n",
              "      <td>0.1</td>\n",
              "      <td>200</td>\n",
              "    </tr>\n",
              "    <tr>\n",
              "      <th>d</th>\n",
              "      <td>0.9</td>\n",
              "      <td>300</td>\n",
              "    </tr>\n",
              "  </tbody>\n",
              "</table>\n",
              "</div>\n",
              "      <button class=\"colab-df-convert\" onclick=\"convertToInteractive('df-f9934273-7ec8-46e8-87f9-82bfd13f650c')\"\n",
              "              title=\"Convert this dataframe to an interactive table.\"\n",
              "              style=\"display:none;\">\n",
              "        \n",
              "  <svg xmlns=\"http://www.w3.org/2000/svg\" height=\"24px\"viewBox=\"0 0 24 24\"\n",
              "       width=\"24px\">\n",
              "    <path d=\"M0 0h24v24H0V0z\" fill=\"none\"/>\n",
              "    <path d=\"M18.56 5.44l.94 2.06.94-2.06 2.06-.94-2.06-.94-.94-2.06-.94 2.06-2.06.94zm-11 1L8.5 8.5l.94-2.06 2.06-.94-2.06-.94L8.5 2.5l-.94 2.06-2.06.94zm10 10l.94 2.06.94-2.06 2.06-.94-2.06-.94-.94-2.06-.94 2.06-2.06.94z\"/><path d=\"M17.41 7.96l-1.37-1.37c-.4-.4-.92-.59-1.43-.59-.52 0-1.04.2-1.43.59L10.3 9.45l-7.72 7.72c-.78.78-.78 2.05 0 2.83L4 21.41c.39.39.9.59 1.41.59.51 0 1.02-.2 1.41-.59l7.78-7.78 2.81-2.81c.8-.78.8-2.07 0-2.86zM5.41 20L4 18.59l7.72-7.72 1.47 1.35L5.41 20z\"/>\n",
              "  </svg>\n",
              "      </button>\n",
              "      \n",
              "  <style>\n",
              "    .colab-df-container {\n",
              "      display:flex;\n",
              "      flex-wrap:wrap;\n",
              "      gap: 12px;\n",
              "    }\n",
              "\n",
              "    .colab-df-convert {\n",
              "      background-color: #E8F0FE;\n",
              "      border: none;\n",
              "      border-radius: 50%;\n",
              "      cursor: pointer;\n",
              "      display: none;\n",
              "      fill: #1967D2;\n",
              "      height: 32px;\n",
              "      padding: 0 0 0 0;\n",
              "      width: 32px;\n",
              "    }\n",
              "\n",
              "    .colab-df-convert:hover {\n",
              "      background-color: #E2EBFA;\n",
              "      box-shadow: 0px 1px 2px rgba(60, 64, 67, 0.3), 0px 1px 3px 1px rgba(60, 64, 67, 0.15);\n",
              "      fill: #174EA6;\n",
              "    }\n",
              "\n",
              "    [theme=dark] .colab-df-convert {\n",
              "      background-color: #3B4455;\n",
              "      fill: #D2E3FC;\n",
              "    }\n",
              "\n",
              "    [theme=dark] .colab-df-convert:hover {\n",
              "      background-color: #434B5C;\n",
              "      box-shadow: 0px 1px 3px 1px rgba(0, 0, 0, 0.15);\n",
              "      filter: drop-shadow(0px 1px 2px rgba(0, 0, 0, 0.3));\n",
              "      fill: #FFFFFF;\n",
              "    }\n",
              "  </style>\n",
              "\n",
              "      <script>\n",
              "        const buttonEl =\n",
              "          document.querySelector('#df-f9934273-7ec8-46e8-87f9-82bfd13f650c button.colab-df-convert');\n",
              "        buttonEl.style.display =\n",
              "          google.colab.kernel.accessAllowed ? 'block' : 'none';\n",
              "\n",
              "        async function convertToInteractive(key) {\n",
              "          const element = document.querySelector('#df-f9934273-7ec8-46e8-87f9-82bfd13f650c');\n",
              "          const dataTable =\n",
              "            await google.colab.kernel.invokeFunction('convertToInteractive',\n",
              "                                                     [key], {});\n",
              "          if (!dataTable) return;\n",
              "\n",
              "          const docLinkHtml = 'Like what you see? Visit the ' +\n",
              "            '<a target=\"_blank\" href=https://colab.research.google.com/notebooks/data_table.ipynb>data table notebook</a>'\n",
              "            + ' to learn more about interactive tables.';\n",
              "          element.innerHTML = '';\n",
              "          dataTable['output_type'] = 'display_data';\n",
              "          await google.colab.output.renderOutput(dataTable, element);\n",
              "          const docLink = document.createElement('div');\n",
              "          docLink.innerHTML = docLinkHtml;\n",
              "          element.appendChild(docLink);\n",
              "        }\n",
              "      </script>\n",
              "    </div>\n",
              "  </div>\n",
              "  "
            ],
            "text/plain": [
              "     y    z\n",
              "b  0.4  100\n",
              "c  0.1  200\n",
              "d  0.9  300"
            ]
          },
          "metadata": {},
          "execution_count": 21
        }
      ],
      "source": [
        "features_bar = pd.DataFrame(\n",
        "    {\"y\": [0.4, 0.1, 0.9], \"z\": [100, 200, 300]}, index=[\"b\", \"c\", \"d\"]\n",
        ")\n",
        "features_bar"
      ]
    },
    {
      "cell_type": "code",
      "execution_count": null,
      "metadata": {
        "id": "ehMcHIphaBBI",
        "outputId": "8d719a89-5bc8-4d8e-800f-f13e48cf8ce1",
        "colab": {
          "base_uri": "https://localhost:8080/"
        }
      },
      "outputs": [
        {
          "output_type": "stream",
          "name": "stdout",
          "text": [
            "StellarGraph: Undirected multigraph\n",
            " Nodes: 4, Edges: 5\n",
            "\n",
            " Node types:\n",
            "  bar: [3]\n",
            "    Features: float32 vector, length 2\n",
            "    Edge types: bar-default->bar, bar-default->foo\n",
            "  foo: [1]\n",
            "    Features: none\n",
            "    Edge types: foo-default->bar\n",
            "\n",
            " Edge types:\n",
            "    bar-default->foo: [3]\n",
            "        Weights: all 1 (default)\n",
            "        Features: none\n",
            "    bar-default->bar: [2]\n",
            "        Weights: all 1 (default)\n",
            "        Features: none\n"
          ]
        }
      ],
      "source": [
        "square_foo_bar_features_dataframe = StellarGraph.from_networkx(\n",
        "    g_foo_bar, node_features={\"bar\": features_bar}\n",
        ")\n",
        "print(square_foo_bar_features_dataframe.info())"
      ]
    },
    {
      "cell_type": "markdown",
      "metadata": {
        "id": "ThV1_VbQaBBI"
      },
      "source": [
        "### Multiple edge types\n",
        "\n",
        "A heterogeneous graph with multiple edge types is supported in the same way, by looking for a `label` attribute (the name can be customised with the `edge_type_attr=...` parameter, like `node_type_attr=...`)."
      ]
    },
    {
      "cell_type": "code",
      "execution_count": null,
      "metadata": {
        "id": "qQzuq2WUaBBI"
      },
      "outputs": [],
      "source": [
        "g_orientation = nx.Graph()\n",
        "g_orientation.add_edge(\"a\", \"b\", label=\"horizontal\")\n",
        "g_orientation.add_edge(\"b\", \"c\", label=\"vertical\")\n",
        "g_orientation.add_edge(\"c\", \"d\", label=\"horizontal\")\n",
        "g_orientation.add_edge(\"d\", \"a\", label=\"vertical\")\n",
        "g_orientation.add_edge(\"a\", \"c\", label=\"diagonal\")"
      ]
    },
    {
      "cell_type": "code",
      "execution_count": null,
      "metadata": {
        "id": "XImrkq5CaBBI",
        "outputId": "da218619-499b-4d4c-d22f-9a37115c36a4",
        "colab": {
          "base_uri": "https://localhost:8080/"
        }
      },
      "outputs": [
        {
          "output_type": "stream",
          "name": "stdout",
          "text": [
            "StellarGraph: Undirected multigraph\n",
            " Nodes: 4, Edges: 5\n",
            "\n",
            " Node types:\n",
            "  default: [4]\n",
            "    Features: none\n",
            "    Edge types: default-diagonal->default, default-horizontal->default, default-vertical->default\n",
            "\n",
            " Edge types:\n",
            "    default-vertical->default: [2]\n",
            "        Weights: all 1 (default)\n",
            "        Features: none\n",
            "    default-horizontal->default: [2]\n",
            "        Weights: all 1 (default)\n",
            "        Features: none\n",
            "    default-diagonal->default: [1]\n",
            "        Weights: all 1 (default)\n",
            "        Features: none\n"
          ]
        }
      ],
      "source": [
        "square_orientation = StellarGraph.from_networkx(g_orientation)\n",
        "print(square_orientation.info())"
      ]
    },
    {
      "cell_type": "markdown",
      "metadata": {
        "id": "OcuKWlZ5aBBJ"
      },
      "source": [
        "### Multiple everything\n",
        "\n",
        "A graph can have multiple node types and multiple edge types, with features or without and with edge weights or without. We can put everything together from the previous sections to make a single complicated `StellarGraph`."
      ]
    },
    {
      "cell_type": "code",
      "execution_count": null,
      "metadata": {
        "id": "robs7xmoaBBJ"
      },
      "outputs": [],
      "source": [
        "g_everything = g_orientation.copy()\n",
        "nx.set_node_attributes(\n",
        "    g_everything, {\"a\": \"foo\", \"b\": \"bar\", \"c\": \"bar\", \"d\": \"bar\"}, \"label\"\n",
        ")"
      ]
    },
    {
      "cell_type": "code",
      "execution_count": null,
      "metadata": {
        "id": "BDSMxdt_aBBJ",
        "outputId": "62800b33-f645-490f-f43c-b5ea83e636bc",
        "colab": {
          "base_uri": "https://localhost:8080/"
        }
      },
      "outputs": [
        {
          "output_type": "stream",
          "name": "stdout",
          "text": [
            "StellarGraph: Undirected multigraph\n",
            " Nodes: 4, Edges: 5\n",
            "\n",
            " Node types:\n",
            "  bar: [3]\n",
            "    Features: float32 vector, length 2\n",
            "    Edge types: bar-diagonal->foo, bar-horizontal->bar, bar-horizontal->foo, bar-vertical->bar, bar-vertical->foo\n",
            "  foo: [1]\n",
            "    Features: none\n",
            "    Edge types: foo-diagonal->bar, foo-horizontal->bar, foo-vertical->bar\n",
            "\n",
            " Edge types:\n",
            "    bar-vertical->foo: [1]\n",
            "        Weights: all 1 (default)\n",
            "        Features: none\n",
            "    bar-vertical->bar: [1]\n",
            "        Weights: all 1 (default)\n",
            "        Features: none\n",
            "    bar-horizontal->foo: [1]\n",
            "        Weights: all 1 (default)\n",
            "        Features: none\n",
            "    bar-horizontal->bar: [1]\n",
            "        Weights: all 1 (default)\n",
            "        Features: none\n",
            "    bar-diagonal->foo: [1]\n",
            "        Weights: all 1 (default)\n",
            "        Features: none\n"
          ]
        }
      ],
      "source": [
        "stellar_everything = StellarGraph.from_networkx(\n",
        "    g_everything, node_features={\"bar\": features_bar}\n",
        ")\n",
        "print(stellar_everything.info())"
      ]
    },
    {
      "cell_type": "markdown",
      "metadata": {
        "id": "ADnqXoimaBBJ"
      },
      "source": [
        "## Conclusion\n",
        "\n",
        "You hopefully now know more about building a `StellarGraph` in various configurations via NetworkX.\n",
        "\n",
        "Revisit this document to use as a reminder, or [documentation](https://stellargraph.readthedocs.io/en/stable/api.html#stellargraph.StellarGraph.from_networkx) for the `StellarGraph.from_networkx` static method.\n",
        "\n",
        "Once you've loaded your data, you can start doing machine learning: a good place to start is the [demo of the GCN algorithm on the Cora dataset for node classification](../node-classification/gcn-node-classification.ipynb). Additionally, StellarGraph includes [many other demos of other algorithms, solving other tasks](../README.md)."
      ]
    },
    {
      "cell_type": "markdown",
      "metadata": {
        "nbsphinx": "hidden",
        "tags": [
          "CloudRunner"
        ],
        "id": "7bEBXKwYaBBJ"
      },
      "source": [
        "<table><tr><td>Run the latest release of this notebook:</td><td><a href=\"https://mybinder.org/v2/gh/stellargraph/stellargraph/master?urlpath=lab/tree/demos/basics/loading-networkx.ipynb\" alt=\"Open In Binder\" target=\"_parent\"><img src=\"https://mybinder.org/badge_logo.svg\"/></a></td><td><a href=\"https://colab.research.google.com/github/stellargraph/stellargraph/blob/master/demos/basics/loading-networkx.ipynb\" alt=\"Open In Colab\" target=\"_parent\"><img src=\"https://colab.research.google.com/assets/colab-badge.svg\"/></a></td></tr></table>"
      ]
    }
  ],
  "metadata": {
    "kernelspec": {
      "display_name": "Python 3",
      "language": "python",
      "name": "python3"
    },
    "language_info": {
      "codemirror_mode": {
        "name": "ipython",
        "version": 3
      },
      "file_extension": ".py",
      "mimetype": "text/x-python",
      "name": "python",
      "nbconvert_exporter": "python",
      "pygments_lexer": "ipython3",
      "version": "3.7.5"
    },
    "colab": {
      "name": "loading-networkx.ipynb",
      "provenance": [],
      "toc_visible": true,
      "include_colab_link": true
    }
  },
  "nbformat": 4,
  "nbformat_minor": 0
}